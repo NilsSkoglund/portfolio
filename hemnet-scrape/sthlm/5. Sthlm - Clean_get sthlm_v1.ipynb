{
 "cells": [
  {
   "cell_type": "code",
   "execution_count": 1,
   "metadata": {
    "ExecuteTime": {
     "end_time": "2020-09-13T09:28:15.172435Z",
     "start_time": "2020-09-13T09:28:14.710586Z"
    }
   },
   "outputs": [],
   "source": [
    "import pandas as pd\n",
    "import numpy as np\n",
    "import re\n",
    "import math"
   ]
  },
  {
   "cell_type": "code",
   "execution_count": 27,
   "metadata": {
    "ExecuteTime": {
     "end_time": "2020-09-13T09:57:02.942522Z",
     "start_time": "2020-09-13T09:57:02.760972Z"
    }
   },
   "outputs": [],
   "source": [
    "data = pd.read_csv(\"sthlm_raw_clean_added_columns.csv\")"
   ]
  },
  {
   "cell_type": "markdown",
   "metadata": {},
   "source": [
    "# Deciding on start-date for data-set\n",
    "\n",
    "I need to select an appropriate start-date for my data-set. In the analysis I will compare different time-periods and I need the number of observations for each period to be similar or big enough. "
   ]
  },
  {
   "cell_type": "code",
   "execution_count": 28,
   "metadata": {
    "ExecuteTime": {
     "end_time": "2020-09-13T09:57:09.933673Z",
     "start_time": "2020-09-13T09:57:09.858023Z"
    }
   },
   "outputs": [],
   "source": [
    "# I'm not able to keep the datetime-format when reading my csv so here I'm just changing datum to datetime-format\n",
    "data.datum = pd.to_datetime(data.datum)"
   ]
  },
  {
   "cell_type": "code",
   "execution_count": 29,
   "metadata": {
    "ExecuteTime": {
     "end_time": "2020-09-13T09:57:10.044376Z",
     "start_time": "2020-09-13T09:57:10.023431Z"
    }
   },
   "outputs": [
    {
     "data": {
      "text/plain": [
       "count                   57943\n",
       "unique                   2726\n",
       "top       2015-05-13 00:00:00\n",
       "freq                       89\n",
       "first     2011-02-09 00:00:00\n",
       "last      2020-09-12 00:00:00\n",
       "Name: datum, dtype: object"
      ]
     },
     "execution_count": 29,
     "metadata": {},
     "output_type": "execute_result"
    }
   ],
   "source": [
    "# Looking at start & end date\n",
    "data.datum.describe()"
   ]
  },
  {
   "cell_type": "code",
   "execution_count": 30,
   "metadata": {
    "ExecuteTime": {
     "end_time": "2020-09-13T09:57:10.235865Z",
     "start_time": "2020-09-13T09:57:10.226888Z"
    }
   },
   "outputs": [
    {
     "data": {
      "text/plain": [
       "2019    8830\n",
       "2018    7867\n",
       "2017    7809\n",
       "2015    7728\n",
       "2016    7717\n",
       "2014    7116\n",
       "2020    6810\n",
       "2013    4059\n",
       "2012       5\n",
       "2011       2\n",
       "Name: år, dtype: int64"
      ]
     },
     "execution_count": 30,
     "metadata": {},
     "output_type": "execute_result"
    }
   ],
   "source": [
    "# Looking at no. of observations for each year\n",
    "# Because of the small no. of observations for year 2011 and 2012...\n",
    "# ...there is no point in keeping these rows, they will just disturb the analysis\n",
    "data.år.value_counts()"
   ]
  },
  {
   "cell_type": "code",
   "execution_count": 31,
   "metadata": {
    "ExecuteTime": {
     "end_time": "2020-09-13T09:57:10.425365Z",
     "start_time": "2020-09-13T09:57:10.405422Z"
    }
   },
   "outputs": [],
   "source": [
    "# List with index for the rows i want to drop\n",
    "lst_index_2011_2012 = data.loc[data.år == 2011].index.tolist() + data.loc[data.år == 2012].index.tolist()"
   ]
  },
  {
   "cell_type": "code",
   "execution_count": 32,
   "metadata": {
    "ExecuteTime": {
     "end_time": "2020-09-13T09:57:10.614849Z",
     "start_time": "2020-09-13T09:57:10.585926Z"
    }
   },
   "outputs": [],
   "source": [
    "# Dropping rows with year 2011 or 2012\n",
    "data.drop(lst_index_2011_2012, inplace = True)"
   ]
  },
  {
   "cell_type": "code",
   "execution_count": 33,
   "metadata": {
    "ExecuteTime": {
     "end_time": "2020-09-13T09:57:10.788385Z",
     "start_time": "2020-09-13T09:57:10.776420Z"
    }
   },
   "outputs": [
    {
     "data": {
      "text/plain": [
       "2019    8830\n",
       "2018    7867\n",
       "2017    7809\n",
       "2015    7728\n",
       "2016    7717\n",
       "2014    7116\n",
       "2020    6810\n",
       "2013    4059\n",
       "Name: år, dtype: int64"
      ]
     },
     "execution_count": 33,
     "metadata": {},
     "output_type": "execute_result"
    }
   ],
   "source": [
    "# Many observations for each year\n",
    "# However significantly less observations for 2013 but still big enough I think\n",
    "data.år.value_counts()"
   ]
  },
  {
   "cell_type": "code",
   "execution_count": 34,
   "metadata": {
    "ExecuteTime": {
     "end_time": "2020-09-13T09:57:10.977879Z",
     "start_time": "2020-09-13T09:57:10.957943Z"
    }
   },
   "outputs": [
    {
     "data": {
      "text/plain": [
       "10    585\n",
       "8     518\n",
       "9     516\n",
       "11    467\n",
       "5     351\n",
       "6     322\n",
       "4     312\n",
       "3     277\n",
       "12    206\n",
       "7     200\n",
       "2     153\n",
       "1     152\n",
       "Name: månad, dtype: int64"
      ]
     },
     "execution_count": 34,
     "metadata": {},
     "output_type": "execute_result"
    }
   ],
   "source": [
    "# Just making sure each month in 2013 has a decent number of observations\n",
    "data.loc[data.år == 2013].månad.value_counts()"
   ]
  },
  {
   "cell_type": "markdown",
   "metadata": {},
   "source": [
    "# Decision start-date: 2013-01-01\n",
    "\n",
    "I only dropped 7 rows (2 for year 2011 and 5 for year 2012) and reduced the date-span of my data-set from 2011-2020 to 2013-2020\n",
    "\n",
    "There were significantly less observations for the year 2013 but the number was still quite high(4059) and each month had a decent number of observations. Therefore I'm making the judgement that the no. of observations for each period (year and/or month) will not skew my analysis (at least not to a large extent). "
   ]
  },
  {
   "cell_type": "markdown",
   "metadata": {},
   "source": [
    "# Data-set is ready for analysis: writing to csv\n",
    "\n",
    "My data-set is now finished and ready for analysis\n",
    "\n",
    "I'm specifying the name with v1(version 1)"
   ]
  },
  {
   "cell_type": "code",
   "execution_count": 40,
   "metadata": {
    "ExecuteTime": {
     "end_time": "2020-09-13T12:12:29.596788Z",
     "start_time": "2020-09-13T12:12:29.574312Z"
    }
   },
   "outputs": [],
   "source": [
    "# Dropping extra index\n",
    "data.drop(columns = \"Unnamed: 0\", inplace = True)"
   ]
  },
  {
   "cell_type": "code",
   "execution_count": 43,
   "metadata": {
    "ExecuteTime": {
     "end_time": "2020-09-13T12:13:28.697806Z",
     "start_time": "2020-09-13T12:13:27.865669Z"
    }
   },
   "outputs": [],
   "source": [
    "# writing to csv, specifying that it should add index since there already is one\n",
    "data.to_csv(\"sthlm_v1.csv\", index = False)"
   ]
  }
 ],
 "metadata": {
  "kernelspec": {
   "display_name": "Python 3",
   "language": "python",
   "name": "python3"
  },
  "language_info": {
   "codemirror_mode": {
    "name": "ipython",
    "version": 3
   },
   "file_extension": ".py",
   "mimetype": "text/x-python",
   "name": "python",
   "nbconvert_exporter": "python",
   "pygments_lexer": "ipython3",
   "version": "3.8.3"
  },
  "toc": {
   "base_numbering": 1,
   "nav_menu": {},
   "number_sections": true,
   "sideBar": true,
   "skip_h1_title": false,
   "title_cell": "Table of Contents",
   "title_sidebar": "Contents",
   "toc_cell": false,
   "toc_position": {},
   "toc_section_display": true,
   "toc_window_display": false
  }
 },
 "nbformat": 4,
 "nbformat_minor": 4
}
