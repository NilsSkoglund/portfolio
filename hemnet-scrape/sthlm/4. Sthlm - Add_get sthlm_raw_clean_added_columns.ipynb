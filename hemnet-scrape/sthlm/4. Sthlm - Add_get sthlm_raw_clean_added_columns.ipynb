{
 "cells": [
  {
   "cell_type": "code",
   "execution_count": 1,
   "metadata": {
    "ExecuteTime": {
     "end_time": "2020-09-12T18:44:28.884577Z",
     "start_time": "2020-09-12T18:44:27.423775Z"
    }
   },
   "outputs": [],
   "source": [
    "import requests\n",
    "from bs4 import BeautifulSoup\n",
    "import pandas as pd\n",
    "import numpy as np\n",
    "import re\n",
    "import math"
   ]
  },
  {
   "cell_type": "code",
   "execution_count": 43,
   "metadata": {
    "ExecuteTime": {
     "end_time": "2020-09-13T09:11:10.044458Z",
     "start_time": "2020-09-13T09:11:09.902820Z"
    }
   },
   "outputs": [],
   "source": [
    "data = pd.read_csv(\"sthlm_raw_clean.csv\")"
   ]
  },
  {
   "cell_type": "code",
   "execution_count": 44,
   "metadata": {
    "ExecuteTime": {
     "end_time": "2020-09-13T09:11:10.756542Z",
     "start_time": "2020-09-13T09:11:10.727619Z"
    }
   },
   "outputs": [
    {
     "data": {
      "text/html": [
       "<div>\n",
       "<style scoped>\n",
       "    .dataframe tbody tr th:only-of-type {\n",
       "        vertical-align: middle;\n",
       "    }\n",
       "\n",
       "    .dataframe tbody tr th {\n",
       "        vertical-align: top;\n",
       "    }\n",
       "\n",
       "    .dataframe thead th {\n",
       "        text-align: right;\n",
       "    }\n",
       "</style>\n",
       "<table border=\"1\" class=\"dataframe\">\n",
       "  <thead>\n",
       "    <tr style=\"text-align: right;\">\n",
       "      <th></th>\n",
       "      <th>adress</th>\n",
       "      <th>omrade</th>\n",
       "      <th>kvm</th>\n",
       "      <th>rum</th>\n",
       "      <th>maklare</th>\n",
       "      <th>avgift</th>\n",
       "      <th>slutpris</th>\n",
       "      <th>datum</th>\n",
       "      <th>prisförändring</th>\n",
       "      <th>gata_id_lst</th>\n",
       "      <th>gata_lst</th>\n",
       "      <th>stockholm_lst</th>\n",
       "    </tr>\n",
       "  </thead>\n",
       "  <tbody>\n",
       "    <tr>\n",
       "      <th>0</th>\n",
       "      <td>Gamla Brogatan 25, 2tr</td>\n",
       "      <td>Vasastan - City/Norrmalm,</td>\n",
       "      <td>114.0</td>\n",
       "      <td>3.5</td>\n",
       "      <td>Fastighetsbyrån Stockholm - Vasastan</td>\n",
       "      <td>6769.0</td>\n",
       "      <td>7600000</td>\n",
       "      <td>2018-04-13</td>\n",
       "      <td>-5</td>\n",
       "      <td>475079</td>\n",
       "      <td>Gamla Brogatan</td>\n",
       "      <td>Stockholms kommun</td>\n",
       "    </tr>\n",
       "    <tr>\n",
       "      <th>1</th>\n",
       "      <td>Gamla Brogatan 25, 2 tr</td>\n",
       "      <td>Vasastan- City/ Norrmalm,</td>\n",
       "      <td>71.0</td>\n",
       "      <td>2.0</td>\n",
       "      <td>Mäklarhuset Stockholm Innerstan</td>\n",
       "      <td>4696.0</td>\n",
       "      <td>5050000</td>\n",
       "      <td>2016-06-23</td>\n",
       "      <td>4</td>\n",
       "      <td>475079</td>\n",
       "      <td>Gamla Brogatan</td>\n",
       "      <td>Stockholms kommun</td>\n",
       "    </tr>\n",
       "    <tr>\n",
       "      <th>2</th>\n",
       "      <td>Gamla Brogatan 25</td>\n",
       "      <td>Vasastan- City/ Norrmalm,</td>\n",
       "      <td>102.0</td>\n",
       "      <td>4.0</td>\n",
       "      <td>Mäklarhuset Stockholm Innerstan</td>\n",
       "      <td>6519.0</td>\n",
       "      <td>6950000</td>\n",
       "      <td>2016-04-29</td>\n",
       "      <td>1</td>\n",
       "      <td>475079</td>\n",
       "      <td>Gamla Brogatan</td>\n",
       "      <td>Stockholms kommun</td>\n",
       "    </tr>\n",
       "    <tr>\n",
       "      <th>3</th>\n",
       "      <td>Gamla Brogatan 25, 2tr</td>\n",
       "      <td>Vasastan - City/Norrmalm,</td>\n",
       "      <td>107.0</td>\n",
       "      <td>4.0</td>\n",
       "      <td>Fastighetsbyrån Stockholm - Vasastan</td>\n",
       "      <td>6713.0</td>\n",
       "      <td>7150000</td>\n",
       "      <td>2015-11-26</td>\n",
       "      <td>2</td>\n",
       "      <td>475079</td>\n",
       "      <td>Gamla Brogatan</td>\n",
       "      <td>Stockholms kommun</td>\n",
       "    </tr>\n",
       "    <tr>\n",
       "      <th>4</th>\n",
       "      <td>Drottninggatan 114 A, 3 tr</td>\n",
       "      <td>Vasastan - Norrmalm,</td>\n",
       "      <td>90.0</td>\n",
       "      <td>3.0</td>\n",
       "      <td>Bostadsrättsspecialisten</td>\n",
       "      <td>3822.0</td>\n",
       "      <td>8900000</td>\n",
       "      <td>2020-08-13</td>\n",
       "      <td>0</td>\n",
       "      <td>475084</td>\n",
       "      <td>Drottninggatan</td>\n",
       "      <td>Stockholms kommun</td>\n",
       "    </tr>\n",
       "    <tr>\n",
       "      <th>...</th>\n",
       "      <td>...</td>\n",
       "      <td>...</td>\n",
       "      <td>...</td>\n",
       "      <td>...</td>\n",
       "      <td>...</td>\n",
       "      <td>...</td>\n",
       "      <td>...</td>\n",
       "      <td>...</td>\n",
       "      <td>...</td>\n",
       "      <td>...</td>\n",
       "      <td>...</td>\n",
       "      <td>...</td>\n",
       "    </tr>\n",
       "    <tr>\n",
       "      <th>57938</th>\n",
       "      <td>Lindevägen 56, 3 tr</td>\n",
       "      <td>Enskede Gård,</td>\n",
       "      <td>74.5</td>\n",
       "      <td>3.0</td>\n",
       "      <td>Svensk Fastighetsförmedling</td>\n",
       "      <td>5002.0</td>\n",
       "      <td>2740000</td>\n",
       "      <td>2014-04-10</td>\n",
       "      <td>19</td>\n",
       "      <td>476350</td>\n",
       "      <td>Lindevägen</td>\n",
       "      <td>Stockholms kommun</td>\n",
       "    </tr>\n",
       "    <tr>\n",
       "      <th>57939</th>\n",
       "      <td>Lindevägen 56</td>\n",
       "      <td>Enskede Gård,</td>\n",
       "      <td>63.0</td>\n",
       "      <td>2.0</td>\n",
       "      <td>Svensk Fastighetsförmedling</td>\n",
       "      <td>3960.0</td>\n",
       "      <td>1905000</td>\n",
       "      <td>2014-02-28</td>\n",
       "      <td>12</td>\n",
       "      <td>476350</td>\n",
       "      <td>Lindevägen</td>\n",
       "      <td>Stockholms kommun</td>\n",
       "    </tr>\n",
       "    <tr>\n",
       "      <th>57940</th>\n",
       "      <td>Lindevägen 44, 2tr</td>\n",
       "      <td>Enskede Gård,</td>\n",
       "      <td>107.0</td>\n",
       "      <td>4.0</td>\n",
       "      <td>Fastighetsbyrån Enskede</td>\n",
       "      <td>6977.0</td>\n",
       "      <td>3720000</td>\n",
       "      <td>2013-08-22</td>\n",
       "      <td>6</td>\n",
       "      <td>476350</td>\n",
       "      <td>Lindevägen</td>\n",
       "      <td>Stockholms kommun</td>\n",
       "    </tr>\n",
       "    <tr>\n",
       "      <th>57941</th>\n",
       "      <td>Lindevägen 50</td>\n",
       "      <td>Enskede Gård,</td>\n",
       "      <td>61.5</td>\n",
       "      <td>2.0</td>\n",
       "      <td>Mäklarhuset Enskede</td>\n",
       "      <td>4221.0</td>\n",
       "      <td>2100000</td>\n",
       "      <td>2013-03-07</td>\n",
       "      <td>11</td>\n",
       "      <td>476350</td>\n",
       "      <td>Lindevägen</td>\n",
       "      <td>Stockholms kommun</td>\n",
       "    </tr>\n",
       "    <tr>\n",
       "      <th>57942</th>\n",
       "      <td>Lindevägen 54</td>\n",
       "      <td>Enskede Gård,</td>\n",
       "      <td>75.5</td>\n",
       "      <td>3.0</td>\n",
       "      <td>Mäklarhuset Enskede</td>\n",
       "      <td>5060.0</td>\n",
       "      <td>2290000</td>\n",
       "      <td>2013-01-15</td>\n",
       "      <td>0</td>\n",
       "      <td>476350</td>\n",
       "      <td>Lindevägen</td>\n",
       "      <td>Stockholms kommun</td>\n",
       "    </tr>\n",
       "  </tbody>\n",
       "</table>\n",
       "<p>57943 rows × 12 columns</p>\n",
       "</div>"
      ],
      "text/plain": [
       "                           adress                     omrade    kvm  rum  \\\n",
       "0          Gamla Brogatan 25, 2tr  Vasastan - City/Norrmalm,  114.0  3.5   \n",
       "1         Gamla Brogatan 25, 2 tr  Vasastan- City/ Norrmalm,   71.0  2.0   \n",
       "2               Gamla Brogatan 25  Vasastan- City/ Norrmalm,  102.0  4.0   \n",
       "3          Gamla Brogatan 25, 2tr  Vasastan - City/Norrmalm,  107.0  4.0   \n",
       "4      Drottninggatan 114 A, 3 tr       Vasastan - Norrmalm,   90.0  3.0   \n",
       "...                           ...                        ...    ...  ...   \n",
       "57938         Lindevägen 56, 3 tr              Enskede Gård,   74.5  3.0   \n",
       "57939               Lindevägen 56              Enskede Gård,   63.0  2.0   \n",
       "57940          Lindevägen 44, 2tr              Enskede Gård,  107.0  4.0   \n",
       "57941               Lindevägen 50              Enskede Gård,   61.5  2.0   \n",
       "57942               Lindevägen 54              Enskede Gård,   75.5  3.0   \n",
       "\n",
       "                                    maklare  avgift  slutpris       datum  \\\n",
       "0      Fastighetsbyrån Stockholm - Vasastan  6769.0   7600000  2018-04-13   \n",
       "1           Mäklarhuset Stockholm Innerstan  4696.0   5050000  2016-06-23   \n",
       "2           Mäklarhuset Stockholm Innerstan  6519.0   6950000  2016-04-29   \n",
       "3      Fastighetsbyrån Stockholm - Vasastan  6713.0   7150000  2015-11-26   \n",
       "4                  Bostadsrättsspecialisten  3822.0   8900000  2020-08-13   \n",
       "...                                     ...     ...       ...         ...   \n",
       "57938           Svensk Fastighetsförmedling  5002.0   2740000  2014-04-10   \n",
       "57939           Svensk Fastighetsförmedling  3960.0   1905000  2014-02-28   \n",
       "57940               Fastighetsbyrån Enskede  6977.0   3720000  2013-08-22   \n",
       "57941                   Mäklarhuset Enskede  4221.0   2100000  2013-03-07   \n",
       "57942                   Mäklarhuset Enskede  5060.0   2290000  2013-01-15   \n",
       "\n",
       "       prisförändring  gata_id_lst        gata_lst      stockholm_lst  \n",
       "0                  -5       475079  Gamla Brogatan  Stockholms kommun  \n",
       "1                   4       475079  Gamla Brogatan  Stockholms kommun  \n",
       "2                   1       475079  Gamla Brogatan  Stockholms kommun  \n",
       "3                   2       475079  Gamla Brogatan  Stockholms kommun  \n",
       "4                   0       475084  Drottninggatan  Stockholms kommun  \n",
       "...               ...          ...             ...                ...  \n",
       "57938              19       476350      Lindevägen  Stockholms kommun  \n",
       "57939              12       476350      Lindevägen  Stockholms kommun  \n",
       "57940               6       476350      Lindevägen  Stockholms kommun  \n",
       "57941              11       476350      Lindevägen  Stockholms kommun  \n",
       "57942               0       476350      Lindevägen  Stockholms kommun  \n",
       "\n",
       "[57943 rows x 12 columns]"
      ]
     },
     "execution_count": 44,
     "metadata": {},
     "output_type": "execute_result"
    }
   ],
   "source": [
    "data"
   ]
  },
  {
   "cell_type": "markdown",
   "metadata": {},
   "source": [
    "# Intro\n",
    "\n",
    "In this file I'm adding columns from the existing data. \n",
    "\n",
    "To clarify I'm not adding new data but adding new columns based on existing data.\n",
    "\n",
    "Columns to add:\n",
    "\n",
    "1) kr_kvm\n",
    "\n",
    "2) år\n",
    "\n",
    "3) månad\n",
    "\n",
    "4) år-månad"
   ]
  },
  {
   "cell_type": "markdown",
   "metadata": {},
   "source": [
    "# Add kr_kvm"
   ]
  },
  {
   "cell_type": "code",
   "execution_count": 45,
   "metadata": {
    "ExecuteTime": {
     "end_time": "2020-09-13T09:11:12.926667Z",
     "start_time": "2020-09-13T09:11:12.919689Z"
    }
   },
   "outputs": [],
   "source": [
    "# adding kr_kvm based on price and square-metres\n",
    "data[\"kr_kvm\"] = data.slutpris / data.kvm"
   ]
  },
  {
   "cell_type": "code",
   "execution_count": 46,
   "metadata": {
    "ExecuteTime": {
     "end_time": "2020-09-13T09:11:13.270255Z",
     "start_time": "2020-09-13T09:11:13.261757Z"
    }
   },
   "outputs": [],
   "source": [
    "# change type from float to int\n",
    "data.kr_kvm = data.kr_kvm.astype(int)"
   ]
  },
  {
   "cell_type": "markdown",
   "metadata": {},
   "source": [
    "## Inspection values kr_kvm\n",
    "\n",
    "Taking the opportunity to check if there are unreasonable values based off price / square-metres"
   ]
  },
  {
   "cell_type": "code",
   "execution_count": 47,
   "metadata": {
    "ExecuteTime": {
     "end_time": "2020-09-13T09:11:13.936538Z",
     "start_time": "2020-09-13T09:11:13.923071Z"
    }
   },
   "outputs": [
    {
     "data": {
      "text/plain": [
       "count     57943.000000\n",
       "mean      84225.726421\n",
       "std       18528.353741\n",
       "min       25714.000000\n",
       "25%       71346.000000\n",
       "50%       83561.000000\n",
       "75%       96052.000000\n",
       "max      220588.000000\n",
       "Name: kr_kvm, dtype: float64"
      ]
     },
     "execution_count": 47,
     "metadata": {},
     "output_type": "execute_result"
    }
   ],
   "source": [
    "data.kr_kvm.describe()"
   ]
  },
  {
   "cell_type": "code",
   "execution_count": 48,
   "metadata": {
    "ExecuteTime": {
     "end_time": "2020-09-13T09:11:14.363093Z",
     "start_time": "2020-09-13T09:11:14.339145Z"
    }
   },
   "outputs": [
    {
     "data": {
      "text/plain": [
       "19934    25714\n",
       "42458    25806\n",
       "50297    26923\n",
       "51437    28525\n",
       "19669    29166\n",
       "Name: kr_kvm, dtype: int32"
      ]
     },
     "execution_count": 48,
     "metadata": {},
     "output_type": "execute_result"
    }
   ],
   "source": [
    "# Looks reasonable\n",
    "data.kr_kvm.nsmallest()"
   ]
  },
  {
   "cell_type": "code",
   "execution_count": 49,
   "metadata": {
    "ExecuteTime": {
     "end_time": "2020-09-13T09:11:14.724886Z",
     "start_time": "2020-09-13T09:11:14.708396Z"
    }
   },
   "outputs": [
    {
     "data": {
      "text/plain": [
       "31407    220588\n",
       "22780    220400\n",
       "31405    215053\n",
       "29827    207947\n",
       "11193    202857\n",
       "Name: kr_kvm, dtype: int32"
      ]
     },
     "execution_count": 49,
     "metadata": {},
     "output_type": "execute_result"
    }
   ],
   "source": [
    "# Looks reasonable\n",
    "data.kr_kvm.nlargest()"
   ]
  },
  {
   "cell_type": "markdown",
   "metadata": {},
   "source": [
    "# Add år"
   ]
  },
  {
   "cell_type": "code",
   "execution_count": 50,
   "metadata": {
    "ExecuteTime": {
     "end_time": "2020-09-13T09:11:15.547279Z",
     "start_time": "2020-09-13T09:11:15.489186Z"
    }
   },
   "outputs": [],
   "source": [
    "# adding year-column for future slicing\n",
    "data[\"år\"] = pd.DatetimeIndex(data[\"datum\"]).year"
   ]
  },
  {
   "cell_type": "markdown",
   "metadata": {},
   "source": [
    "# Add månad"
   ]
  },
  {
   "cell_type": "code",
   "execution_count": 51,
   "metadata": {
    "ExecuteTime": {
     "end_time": "2020-09-13T09:11:16.387872Z",
     "start_time": "2020-09-13T09:11:16.349973Z"
    }
   },
   "outputs": [],
   "source": [
    "data[\"månad\"] = pd.DatetimeIndex(data[\"datum\"]).month"
   ]
  },
  {
   "cell_type": "markdown",
   "metadata": {},
   "source": [
    "# Add år-månad"
   ]
  },
  {
   "cell_type": "code",
   "execution_count": 52,
   "metadata": {
    "ExecuteTime": {
     "end_time": "2020-09-13T09:11:17.050695Z",
     "start_time": "2020-09-13T09:11:16.957341Z"
    }
   },
   "outputs": [],
   "source": [
    "data[\"år_månad\"] = pd.to_datetime(data.år.astype(str) + \"-\" + data.månad.astype(str))"
   ]
  },
  {
   "cell_type": "markdown",
   "metadata": {},
   "source": [
    "# Inspection"
   ]
  },
  {
   "cell_type": "code",
   "execution_count": 53,
   "metadata": {
    "ExecuteTime": {
     "end_time": "2020-09-13T09:11:17.668932Z",
     "start_time": "2020-09-13T09:11:17.644028Z"
    }
   },
   "outputs": [
    {
     "data": {
      "text/html": [
       "<div>\n",
       "<style scoped>\n",
       "    .dataframe tbody tr th:only-of-type {\n",
       "        vertical-align: middle;\n",
       "    }\n",
       "\n",
       "    .dataframe tbody tr th {\n",
       "        vertical-align: top;\n",
       "    }\n",
       "\n",
       "    .dataframe thead th {\n",
       "        text-align: right;\n",
       "    }\n",
       "</style>\n",
       "<table border=\"1\" class=\"dataframe\">\n",
       "  <thead>\n",
       "    <tr style=\"text-align: right;\">\n",
       "      <th></th>\n",
       "      <th>adress</th>\n",
       "      <th>omrade</th>\n",
       "      <th>kvm</th>\n",
       "      <th>rum</th>\n",
       "      <th>maklare</th>\n",
       "      <th>avgift</th>\n",
       "      <th>slutpris</th>\n",
       "      <th>datum</th>\n",
       "      <th>prisförändring</th>\n",
       "      <th>gata_id_lst</th>\n",
       "      <th>gata_lst</th>\n",
       "      <th>stockholm_lst</th>\n",
       "      <th>kr_kvm</th>\n",
       "      <th>år</th>\n",
       "      <th>månad</th>\n",
       "      <th>år_månad</th>\n",
       "    </tr>\n",
       "  </thead>\n",
       "  <tbody>\n",
       "    <tr>\n",
       "      <th>0</th>\n",
       "      <td>Gamla Brogatan 25, 2tr</td>\n",
       "      <td>Vasastan - City/Norrmalm,</td>\n",
       "      <td>114.0</td>\n",
       "      <td>3.5</td>\n",
       "      <td>Fastighetsbyrån Stockholm - Vasastan</td>\n",
       "      <td>6769.0</td>\n",
       "      <td>7600000</td>\n",
       "      <td>2018-04-13</td>\n",
       "      <td>-5</td>\n",
       "      <td>475079</td>\n",
       "      <td>Gamla Brogatan</td>\n",
       "      <td>Stockholms kommun</td>\n",
       "      <td>66666</td>\n",
       "      <td>2018</td>\n",
       "      <td>4</td>\n",
       "      <td>2018-04-01</td>\n",
       "    </tr>\n",
       "    <tr>\n",
       "      <th>1</th>\n",
       "      <td>Gamla Brogatan 25, 2 tr</td>\n",
       "      <td>Vasastan- City/ Norrmalm,</td>\n",
       "      <td>71.0</td>\n",
       "      <td>2.0</td>\n",
       "      <td>Mäklarhuset Stockholm Innerstan</td>\n",
       "      <td>4696.0</td>\n",
       "      <td>5050000</td>\n",
       "      <td>2016-06-23</td>\n",
       "      <td>4</td>\n",
       "      <td>475079</td>\n",
       "      <td>Gamla Brogatan</td>\n",
       "      <td>Stockholms kommun</td>\n",
       "      <td>71126</td>\n",
       "      <td>2016</td>\n",
       "      <td>6</td>\n",
       "      <td>2016-06-01</td>\n",
       "    </tr>\n",
       "    <tr>\n",
       "      <th>2</th>\n",
       "      <td>Gamla Brogatan 25</td>\n",
       "      <td>Vasastan- City/ Norrmalm,</td>\n",
       "      <td>102.0</td>\n",
       "      <td>4.0</td>\n",
       "      <td>Mäklarhuset Stockholm Innerstan</td>\n",
       "      <td>6519.0</td>\n",
       "      <td>6950000</td>\n",
       "      <td>2016-04-29</td>\n",
       "      <td>1</td>\n",
       "      <td>475079</td>\n",
       "      <td>Gamla Brogatan</td>\n",
       "      <td>Stockholms kommun</td>\n",
       "      <td>68137</td>\n",
       "      <td>2016</td>\n",
       "      <td>4</td>\n",
       "      <td>2016-04-01</td>\n",
       "    </tr>\n",
       "    <tr>\n",
       "      <th>3</th>\n",
       "      <td>Gamla Brogatan 25, 2tr</td>\n",
       "      <td>Vasastan - City/Norrmalm,</td>\n",
       "      <td>107.0</td>\n",
       "      <td>4.0</td>\n",
       "      <td>Fastighetsbyrån Stockholm - Vasastan</td>\n",
       "      <td>6713.0</td>\n",
       "      <td>7150000</td>\n",
       "      <td>2015-11-26</td>\n",
       "      <td>2</td>\n",
       "      <td>475079</td>\n",
       "      <td>Gamla Brogatan</td>\n",
       "      <td>Stockholms kommun</td>\n",
       "      <td>66822</td>\n",
       "      <td>2015</td>\n",
       "      <td>11</td>\n",
       "      <td>2015-11-01</td>\n",
       "    </tr>\n",
       "    <tr>\n",
       "      <th>4</th>\n",
       "      <td>Drottninggatan 114 A, 3 tr</td>\n",
       "      <td>Vasastan - Norrmalm,</td>\n",
       "      <td>90.0</td>\n",
       "      <td>3.0</td>\n",
       "      <td>Bostadsrättsspecialisten</td>\n",
       "      <td>3822.0</td>\n",
       "      <td>8900000</td>\n",
       "      <td>2020-08-13</td>\n",
       "      <td>0</td>\n",
       "      <td>475084</td>\n",
       "      <td>Drottninggatan</td>\n",
       "      <td>Stockholms kommun</td>\n",
       "      <td>98888</td>\n",
       "      <td>2020</td>\n",
       "      <td>8</td>\n",
       "      <td>2020-08-01</td>\n",
       "    </tr>\n",
       "  </tbody>\n",
       "</table>\n",
       "</div>"
      ],
      "text/plain": [
       "                       adress                     omrade    kvm  rum  \\\n",
       "0      Gamla Brogatan 25, 2tr  Vasastan - City/Norrmalm,  114.0  3.5   \n",
       "1     Gamla Brogatan 25, 2 tr  Vasastan- City/ Norrmalm,   71.0  2.0   \n",
       "2           Gamla Brogatan 25  Vasastan- City/ Norrmalm,  102.0  4.0   \n",
       "3      Gamla Brogatan 25, 2tr  Vasastan - City/Norrmalm,  107.0  4.0   \n",
       "4  Drottninggatan 114 A, 3 tr       Vasastan - Norrmalm,   90.0  3.0   \n",
       "\n",
       "                                maklare  avgift  slutpris       datum  \\\n",
       "0  Fastighetsbyrån Stockholm - Vasastan  6769.0   7600000  2018-04-13   \n",
       "1       Mäklarhuset Stockholm Innerstan  4696.0   5050000  2016-06-23   \n",
       "2       Mäklarhuset Stockholm Innerstan  6519.0   6950000  2016-04-29   \n",
       "3  Fastighetsbyrån Stockholm - Vasastan  6713.0   7150000  2015-11-26   \n",
       "4              Bostadsrättsspecialisten  3822.0   8900000  2020-08-13   \n",
       "\n",
       "   prisförändring  gata_id_lst        gata_lst      stockholm_lst  kr_kvm  \\\n",
       "0              -5       475079  Gamla Brogatan  Stockholms kommun   66666   \n",
       "1               4       475079  Gamla Brogatan  Stockholms kommun   71126   \n",
       "2               1       475079  Gamla Brogatan  Stockholms kommun   68137   \n",
       "3               2       475079  Gamla Brogatan  Stockholms kommun   66822   \n",
       "4               0       475084  Drottninggatan  Stockholms kommun   98888   \n",
       "\n",
       "     år  månad   år_månad  \n",
       "0  2018      4 2018-04-01  \n",
       "1  2016      6 2016-06-01  \n",
       "2  2016      4 2016-04-01  \n",
       "3  2015     11 2015-11-01  \n",
       "4  2020      8 2020-08-01  "
      ]
     },
     "execution_count": 53,
     "metadata": {},
     "output_type": "execute_result"
    }
   ],
   "source": [
    "# looks good \n",
    "data.head()"
   ]
  },
  {
   "cell_type": "code",
   "execution_count": 54,
   "metadata": {
    "ExecuteTime": {
     "end_time": "2020-09-13T09:11:35.344558Z",
     "start_time": "2020-09-13T09:11:35.302715Z"
    }
   },
   "outputs": [
    {
     "name": "stdout",
     "output_type": "stream",
     "text": [
      "<class 'pandas.core.frame.DataFrame'>\n",
      "RangeIndex: 57943 entries, 0 to 57942\n",
      "Data columns (total 16 columns):\n",
      " #   Column          Non-Null Count  Dtype         \n",
      "---  ------          --------------  -----         \n",
      " 0   adress          57943 non-null  object        \n",
      " 1   omrade          57218 non-null  object        \n",
      " 2   kvm             57943 non-null  float64       \n",
      " 3   rum             57943 non-null  float64       \n",
      " 4   maklare         57943 non-null  object        \n",
      " 5   avgift          57731 non-null  float64       \n",
      " 6   slutpris        57943 non-null  int64         \n",
      " 7   datum           57943 non-null  object        \n",
      " 8   prisförändring  57943 non-null  int64         \n",
      " 9   gata_id_lst     57943 non-null  int64         \n",
      " 10  gata_lst        56688 non-null  object        \n",
      " 11  stockholm_lst   57943 non-null  object        \n",
      " 12  kr_kvm          57943 non-null  int32         \n",
      " 13  år              57943 non-null  int64         \n",
      " 14  månad           57943 non-null  int64         \n",
      " 15  år_månad        57943 non-null  datetime64[ns]\n",
      "dtypes: datetime64[ns](1), float64(3), int32(1), int64(5), object(6)\n",
      "memory usage: 6.9+ MB\n"
     ]
    }
   ],
   "source": [
    "# looks good\n",
    "# notice though that i'm failing to keep the datetime-format for the column \"datum\" when reading the csv\n",
    "data.info()"
   ]
  },
  {
   "cell_type": "markdown",
   "metadata": {},
   "source": [
    "# write to csv\n",
    "\n",
    "I've still got one more round of cleaning before moving on to analysis. \n",
    "\n",
    "I'm therefore still naming my csv-file in a way so i can keep track of the changes I've made"
   ]
  },
  {
   "cell_type": "code",
   "execution_count": 56,
   "metadata": {
    "ExecuteTime": {
     "end_time": "2020-09-13T09:56:53.262401Z",
     "start_time": "2020-09-13T09:56:52.459430Z"
    }
   },
   "outputs": [],
   "source": [
    "data.to_csv(\"sthlm_raw_clean_added_columns.csv\")"
   ]
  },
  {
   "cell_type": "code",
   "execution_count": null,
   "metadata": {},
   "outputs": [],
   "source": []
  }
 ],
 "metadata": {
  "kernelspec": {
   "display_name": "Python 3",
   "language": "python",
   "name": "python3"
  },
  "language_info": {
   "codemirror_mode": {
    "name": "ipython",
    "version": 3
   },
   "file_extension": ".py",
   "mimetype": "text/x-python",
   "name": "python",
   "nbconvert_exporter": "python",
   "pygments_lexer": "ipython3",
   "version": "3.8.3"
  },
  "toc": {
   "base_numbering": 1,
   "nav_menu": {},
   "number_sections": true,
   "sideBar": true,
   "skip_h1_title": false,
   "title_cell": "Table of Contents",
   "title_sidebar": "Contents",
   "toc_cell": false,
   "toc_position": {},
   "toc_section_display": true,
   "toc_window_display": false
  }
 },
 "nbformat": 4,
 "nbformat_minor": 4
}
