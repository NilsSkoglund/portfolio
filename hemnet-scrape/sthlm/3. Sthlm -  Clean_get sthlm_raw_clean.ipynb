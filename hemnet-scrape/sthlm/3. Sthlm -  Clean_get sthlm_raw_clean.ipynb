{
 "cells": [
  {
   "cell_type": "code",
   "execution_count": 1,
   "metadata": {
    "ExecuteTime": {
     "end_time": "2020-09-12T17:11:11.517748Z",
     "start_time": "2020-09-12T17:11:10.888986Z"
    }
   },
   "outputs": [],
   "source": [
    "import requests\n",
    "from bs4 import BeautifulSoup\n",
    "import pandas as pd\n",
    "import numpy as np\n",
    "import re\n",
    "import math"
   ]
  },
  {
   "cell_type": "markdown",
   "metadata": {},
   "source": [
    "# Intro\n",
    "\n",
    "In this notebook I´m data-cleaning the csv created in \"2. Sthlm...\" "
   ]
  },
  {
   "cell_type": "code",
   "execution_count": 125,
   "metadata": {
    "ExecuteTime": {
     "end_time": "2020-09-13T09:09:19.276865Z",
     "start_time": "2020-09-13T09:09:19.133122Z"
    }
   },
   "outputs": [],
   "source": [
    "data = pd.read_csv(\"sthlm_raw.csv\")"
   ]
  },
  {
   "cell_type": "code",
   "execution_count": 126,
   "metadata": {
    "ExecuteTime": {
     "end_time": "2020-09-13T09:09:19.761348Z",
     "start_time": "2020-09-13T09:09:19.717569Z"
    }
   },
   "outputs": [
    {
     "name": "stdout",
     "output_type": "stream",
     "text": [
      "<class 'pandas.core.frame.DataFrame'>\n",
      "RangeIndex: 58169 entries, 0 to 58168\n",
      "Data columns (total 12 columns):\n",
      " #   Column          Non-Null Count  Dtype  \n",
      "---  ------          --------------  -----  \n",
      " 0   adress          58169 non-null  object \n",
      " 1   omrade          57442 non-null  object \n",
      " 2   kvm             57966 non-null  object \n",
      " 3   rum             58151 non-null  object \n",
      " 4   maklare         58169 non-null  object \n",
      " 5   avgift          57957 non-null  float64\n",
      " 6   slutpris        58169 non-null  int64  \n",
      " 7   datum           58169 non-null  object \n",
      " 8   prisförändring  58169 non-null  int64  \n",
      " 9   gata_id_lst     58169 non-null  int64  \n",
      " 10  gata_lst        56908 non-null  object \n",
      " 11  stockholm_lst   58169 non-null  object \n",
      "dtypes: float64(1), int64(3), object(8)\n",
      "memory usage: 5.3+ MB\n"
     ]
    }
   ],
   "source": [
    "data.info()"
   ]
  },
  {
   "cell_type": "markdown",
   "metadata": {},
   "source": [
    "# Drop rows where \"kvm\" or \"rum\" is missing\n",
    "\n",
    "Start with dropping for efficiency (avoiding the risk of spending time fixing rows I'll later drop)\n",
    "\n",
    "kvm and rum are two of the most important values and I prefer dropping rows where they are missing from any other approach. \n",
    "\n",
    "I feel ok with dropping since I'm only loosing app. 200 / 58000 rows ~ 0.35% of the total sample"
   ]
  },
  {
   "cell_type": "code",
   "execution_count": 127,
   "metadata": {
    "ExecuteTime": {
     "end_time": "2020-09-13T09:09:21.595308Z",
     "start_time": "2020-09-13T09:09:21.567484Z"
    }
   },
   "outputs": [],
   "source": [
    "data = data.loc[~data.rum.isna()]"
   ]
  },
  {
   "cell_type": "code",
   "execution_count": 128,
   "metadata": {
    "ExecuteTime": {
     "end_time": "2020-09-13T09:09:22.111485Z",
     "start_time": "2020-09-13T09:09:22.088473Z"
    }
   },
   "outputs": [],
   "source": [
    "data = data.loc[~data.kvm.isna()]"
   ]
  },
  {
   "cell_type": "code",
   "execution_count": 129,
   "metadata": {
    "ExecuteTime": {
     "end_time": "2020-09-13T09:09:23.374400Z",
     "start_time": "2020-09-13T09:09:23.333489Z"
    }
   },
   "outputs": [
    {
     "name": "stdout",
     "output_type": "stream",
     "text": [
      "<class 'pandas.core.frame.DataFrame'>\n",
      "Int64Index: 57949 entries, 0 to 58168\n",
      "Data columns (total 12 columns):\n",
      " #   Column          Non-Null Count  Dtype  \n",
      "---  ------          --------------  -----  \n",
      " 0   adress          57949 non-null  object \n",
      " 1   omrade          57224 non-null  object \n",
      " 2   kvm             57949 non-null  object \n",
      " 3   rum             57949 non-null  object \n",
      " 4   maklare         57949 non-null  object \n",
      " 5   avgift          57737 non-null  float64\n",
      " 6   slutpris        57949 non-null  int64  \n",
      " 7   datum           57949 non-null  object \n",
      " 8   prisförändring  57949 non-null  int64  \n",
      " 9   gata_id_lst     57949 non-null  int64  \n",
      " 10  gata_lst        56693 non-null  object \n",
      " 11  stockholm_lst   57949 non-null  object \n",
      "dtypes: float64(1), int64(3), object(8)\n",
      "memory usage: 5.7+ MB\n"
     ]
    }
   ],
   "source": [
    "data.info()"
   ]
  },
  {
   "cell_type": "markdown",
   "metadata": {},
   "source": [
    "# Adapting numerical decimals to pandas"
   ]
  },
  {
   "cell_type": "code",
   "execution_count": 130,
   "metadata": {
    "ExecuteTime": {
     "end_time": "2020-09-13T09:09:25.034256Z",
     "start_time": "2020-09-13T09:09:24.998334Z"
    }
   },
   "outputs": [],
   "source": [
    "# Changing , to . for kvm\n",
    "data.kvm = data.kvm.str.replace(\",\", \".\")"
   ]
  },
  {
   "cell_type": "code",
   "execution_count": 131,
   "metadata": {
    "ExecuteTime": {
     "end_time": "2020-09-13T09:09:25.348488Z",
     "start_time": "2020-09-13T09:09:25.315751Z"
    }
   },
   "outputs": [],
   "source": [
    "# Changing , to . for rum\n",
    "data.rum = data.rum.str.replace(\",\",\".\")"
   ]
  },
  {
   "cell_type": "markdown",
   "metadata": {},
   "source": [
    "# Data-types"
   ]
  },
  {
   "cell_type": "markdown",
   "metadata": {},
   "source": [
    "## kvm"
   ]
  },
  {
   "cell_type": "code",
   "execution_count": 132,
   "metadata": {
    "ExecuteTime": {
     "end_time": "2020-09-13T09:09:26.481865Z",
     "start_time": "2020-09-13T09:09:26.458409Z"
    }
   },
   "outputs": [],
   "source": [
    "# kvm changed to float from object\n",
    "data.kvm = data.kvm.astype(float)"
   ]
  },
  {
   "cell_type": "markdown",
   "metadata": {},
   "source": [
    "## rum"
   ]
  },
  {
   "cell_type": "code",
   "execution_count": 133,
   "metadata": {
    "ExecuteTime": {
     "end_time": "2020-09-13T09:09:27.137210Z",
     "start_time": "2020-09-13T09:09:27.119255Z"
    }
   },
   "outputs": [],
   "source": [
    "# rum changed to float from object\n",
    "data.rum = data.rum.astype(\"float\")"
   ]
  },
  {
   "cell_type": "markdown",
   "metadata": {},
   "source": [
    "## datum"
   ]
  },
  {
   "cell_type": "code",
   "execution_count": 134,
   "metadata": {
    "ExecuteTime": {
     "end_time": "2020-09-13T09:09:28.017332Z",
     "start_time": "2020-09-13T09:09:27.998342Z"
    }
   },
   "outputs": [],
   "source": [
    "# Need to remove and replace text before converting to datetime-type"
   ]
  },
  {
   "cell_type": "code",
   "execution_count": 135,
   "metadata": {
    "ExecuteTime": {
     "end_time": "2020-09-13T09:09:28.439008Z",
     "start_time": "2020-09-13T09:09:28.372167Z"
    }
   },
   "outputs": [],
   "source": [
    "# remove text \"Såld\" from all rows\n",
    "data.datum = data.datum.str.replace(\"Såld\", \"\")"
   ]
  },
  {
   "cell_type": "code",
   "execution_count": 136,
   "metadata": {
    "ExecuteTime": {
     "end_time": "2020-09-13T09:09:28.845849Z",
     "start_time": "2020-09-13T09:09:28.833331Z"
    }
   },
   "outputs": [],
   "source": [
    "# Function to change text for month to numerical value for month \n",
    "def manader_to_num(datum): \n",
    "    if \"januari\" in datum: \n",
    "        return datum.replace(\"januari\", \"1\")\n",
    "    elif \"februari\" in datum: \n",
    "        return datum.replace(\"februari\", \"2\")\n",
    "    elif \"mars\" in datum: \n",
    "        return datum.replace(\"mars\", \"3\")\n",
    "    elif \"april\" in datum: \n",
    "        return datum.replace(\"april\", \"4\")\n",
    "    elif \"maj\" in datum: \n",
    "        return datum.replace(\"maj\", \"5\")\n",
    "    elif \"juni\" in datum: \n",
    "        return datum.replace(\"juni\", \"6\")\n",
    "    elif \"juli\" in datum: \n",
    "        return datum.replace(\"juli\", \"7\")\n",
    "    elif \"augusti\" in datum:\n",
    "        return datum.replace(\"augusti\", \"8\")\n",
    "    elif \"september\" in datum: \n",
    "        return datum.replace(\"september\", \"9\")\n",
    "    elif \"oktober\" in datum: \n",
    "        return datum.replace(\"oktober\", \"10\")\n",
    "    elif \"november\" in datum: \n",
    "        return datum.replace(\"november\", \"11\")\n",
    "    elif \"december\" in datum: \n",
    "        return datum.replace(\"december\", \"12\")\n",
    "    else: \n",
    "        return np.nan"
   ]
  },
  {
   "cell_type": "code",
   "execution_count": 137,
   "metadata": {
    "ExecuteTime": {
     "end_time": "2020-09-13T09:09:30.512440Z",
     "start_time": "2020-09-13T09:09:30.461072Z"
    }
   },
   "outputs": [],
   "source": [
    "# apply function to change month from text to numerical\n",
    "data.datum = data.datum.apply(manader_to_num)"
   ]
  },
  {
   "cell_type": "code",
   "execution_count": 138,
   "metadata": {
    "ExecuteTime": {
     "end_time": "2020-09-13T09:09:37.868351Z",
     "start_time": "2020-09-13T09:09:31.600059Z"
    }
   },
   "outputs": [],
   "source": [
    "# change type from object to datetime. I'm specifying that it should parse day first \n",
    "data.datum = pd.to_datetime(data.datum, dayfirst=True)"
   ]
  },
  {
   "cell_type": "code",
   "execution_count": 139,
   "metadata": {
    "ExecuteTime": {
     "end_time": "2020-09-13T09:09:39.152913Z",
     "start_time": "2020-09-13T09:09:39.114640Z"
    }
   },
   "outputs": [
    {
     "name": "stdout",
     "output_type": "stream",
     "text": [
      "<class 'pandas.core.frame.DataFrame'>\n",
      "Int64Index: 57949 entries, 0 to 58168\n",
      "Data columns (total 12 columns):\n",
      " #   Column          Non-Null Count  Dtype         \n",
      "---  ------          --------------  -----         \n",
      " 0   adress          57949 non-null  object        \n",
      " 1   omrade          57224 non-null  object        \n",
      " 2   kvm             57949 non-null  float64       \n",
      " 3   rum             57949 non-null  float64       \n",
      " 4   maklare         57949 non-null  object        \n",
      " 5   avgift          57737 non-null  float64       \n",
      " 6   slutpris        57949 non-null  int64         \n",
      " 7   datum           57949 non-null  datetime64[ns]\n",
      " 8   prisförändring  57949 non-null  int64         \n",
      " 9   gata_id_lst     57949 non-null  int64         \n",
      " 10  gata_lst        56693 non-null  object        \n",
      " 11  stockholm_lst   57949 non-null  object        \n",
      "dtypes: datetime64[ns](1), float64(3), int64(3), object(5)\n",
      "memory usage: 5.7+ MB\n"
     ]
    }
   ],
   "source": [
    "data.info()"
   ]
  },
  {
   "cell_type": "markdown",
   "metadata": {},
   "source": [
    "# NaN in avgift: Future update (maybe?)"
   ]
  },
  {
   "cell_type": "markdown",
   "metadata": {},
   "source": [
    "## Description for future update\n",
    "\n",
    "I'm not really interested in the values in this column so i don't think I'll bother filling the missing values. \n",
    "\n",
    "When there are values missing it's simply because that info has been left out from my data-source (Hemnet)"
   ]
  },
  {
   "cell_type": "markdown",
   "metadata": {},
   "source": [
    "# NaNs in gata_lst: Future update\n",
    "## Description for future update: gata_lst - fillna from street name in adress column"
   ]
  },
  {
   "cell_type": "code",
   "execution_count": 140,
   "metadata": {
    "ExecuteTime": {
     "end_time": "2020-09-13T09:09:40.556754Z",
     "start_time": "2020-09-13T09:09:40.516859Z"
    }
   },
   "outputs": [
    {
     "data": {
      "text/html": [
       "<div>\n",
       "<style scoped>\n",
       "    .dataframe tbody tr th:only-of-type {\n",
       "        vertical-align: middle;\n",
       "    }\n",
       "\n",
       "    .dataframe tbody tr th {\n",
       "        vertical-align: top;\n",
       "    }\n",
       "\n",
       "    .dataframe thead th {\n",
       "        text-align: right;\n",
       "    }\n",
       "</style>\n",
       "<table border=\"1\" class=\"dataframe\">\n",
       "  <thead>\n",
       "    <tr style=\"text-align: right;\">\n",
       "      <th></th>\n",
       "      <th>adress</th>\n",
       "      <th>omrade</th>\n",
       "      <th>kvm</th>\n",
       "      <th>rum</th>\n",
       "      <th>maklare</th>\n",
       "      <th>avgift</th>\n",
       "      <th>slutpris</th>\n",
       "      <th>datum</th>\n",
       "      <th>prisförändring</th>\n",
       "      <th>gata_id_lst</th>\n",
       "      <th>gata_lst</th>\n",
       "      <th>stockholm_lst</th>\n",
       "    </tr>\n",
       "  </thead>\n",
       "  <tbody>\n",
       "    <tr>\n",
       "      <th>3635</th>\n",
       "      <td>Tegnérgatan 5</td>\n",
       "      <td>Norrmalm,</td>\n",
       "      <td>92.000000</td>\n",
       "      <td>3.000000</td>\n",
       "      <td>Behrer &amp; Partners</td>\n",
       "      <td>3746.000000</td>\n",
       "      <td>11700000</td>\n",
       "      <td>2020-09-08</td>\n",
       "      <td>14</td>\n",
       "      <td>475246</td>\n",
       "      <td>NaN</td>\n",
       "      <td>Stockholms kommun</td>\n",
       "    </tr>\n",
       "    <tr>\n",
       "      <th>3636</th>\n",
       "      <td>Tegnérgatan 5A</td>\n",
       "      <td>Vasastan - Östermalm,</td>\n",
       "      <td>34.000000</td>\n",
       "      <td>2.000000</td>\n",
       "      <td>Fastighetsbyrån Stockholm - Vasastan</td>\n",
       "      <td>1691.000000</td>\n",
       "      <td>3800000</td>\n",
       "      <td>2020-09-01</td>\n",
       "      <td>12</td>\n",
       "      <td>475246</td>\n",
       "      <td>NaN</td>\n",
       "      <td>Stockholms kommun</td>\n",
       "    </tr>\n",
       "    <tr>\n",
       "      <th>3637</th>\n",
       "      <td>Tegnérgatan 10</td>\n",
       "      <td>Vasastan,</td>\n",
       "      <td>66.000000</td>\n",
       "      <td>2.000000</td>\n",
       "      <td>BlumenthalHoffman Fastighetsmäkleri</td>\n",
       "      <td>2794.000000</td>\n",
       "      <td>6900000</td>\n",
       "      <td>2020-08-30</td>\n",
       "      <td>15</td>\n",
       "      <td>475246</td>\n",
       "      <td>NaN</td>\n",
       "      <td>Stockholms kommun</td>\n",
       "    </tr>\n",
       "    <tr>\n",
       "      <th>3638</th>\n",
       "      <td>Tegnérgatan 5 A, 2 tr</td>\n",
       "      <td>Vasastan / Norrmalm,</td>\n",
       "      <td>57.000000</td>\n",
       "      <td>2.000000</td>\n",
       "      <td>Eklund Stockholm New York</td>\n",
       "      <td>2352.000000</td>\n",
       "      <td>5890000</td>\n",
       "      <td>2020-07-02</td>\n",
       "      <td>7</td>\n",
       "      <td>475246</td>\n",
       "      <td>NaN</td>\n",
       "      <td>Stockholms kommun</td>\n",
       "    </tr>\n",
       "    <tr>\n",
       "      <th>3639</th>\n",
       "      <td>Tegnérgatan 55A, 2tr</td>\n",
       "      <td>Vasastan/Norrmalm,</td>\n",
       "      <td>35.500000</td>\n",
       "      <td>2.000000</td>\n",
       "      <td>Innerstadsspecialisten S AB</td>\n",
       "      <td>2284.000000</td>\n",
       "      <td>3900000</td>\n",
       "      <td>2020-06-24</td>\n",
       "      <td>16</td>\n",
       "      <td>475246</td>\n",
       "      <td>NaN</td>\n",
       "      <td>Stockholms kommun</td>\n",
       "    </tr>\n",
       "    <tr>\n",
       "      <th>...</th>\n",
       "      <td>...</td>\n",
       "      <td>...</td>\n",
       "      <td>...</td>\n",
       "      <td>...</td>\n",
       "      <td>...</td>\n",
       "      <td>...</td>\n",
       "      <td>...</td>\n",
       "      <td>...</td>\n",
       "      <td>...</td>\n",
       "      <td>...</td>\n",
       "      <td>...</td>\n",
       "      <td>...</td>\n",
       "    </tr>\n",
       "    <tr>\n",
       "      <th>57050</th>\n",
       "      <td>Lugnets Allé 67, 5tr</td>\n",
       "      <td>Hammarby Sjöstad,</td>\n",
       "      <td>66.000000</td>\n",
       "      <td>2.000000</td>\n",
       "      <td>HusmanHagberg Södermalm/Gamla Stan</td>\n",
       "      <td>4388.000000</td>\n",
       "      <td>3195000</td>\n",
       "      <td>2013-04-18</td>\n",
       "      <td>0</td>\n",
       "      <td>476302</td>\n",
       "      <td>NaN</td>\n",
       "      <td>Stockholms kommun</td>\n",
       "    </tr>\n",
       "    <tr>\n",
       "      <th>57051</th>\n",
       "      <td>Lugnets Allé 41</td>\n",
       "      <td>Sickla Kaj,</td>\n",
       "      <td>73.500000</td>\n",
       "      <td>3.000000</td>\n",
       "      <td>Fastighetsbyrån Stockholm - Hammarby Sjöstad</td>\n",
       "      <td>4269.000000</td>\n",
       "      <td>3450000</td>\n",
       "      <td>2013-04-10</td>\n",
       "      <td>6</td>\n",
       "      <td>476302</td>\n",
       "      <td>NaN</td>\n",
       "      <td>Stockholms kommun</td>\n",
       "    </tr>\n",
       "    <tr>\n",
       "      <th>57052</th>\n",
       "      <td>Lugnets Allé 40</td>\n",
       "      <td>Hammarby Sjöstad,</td>\n",
       "      <td>85.500000</td>\n",
       "      <td>3.000000</td>\n",
       "      <td>Fastighetsbyrån Stockholm - Hammarby Sjöstad</td>\n",
       "      <td>4489.000000</td>\n",
       "      <td>3725000</td>\n",
       "      <td>2013-03-22</td>\n",
       "      <td>0</td>\n",
       "      <td>476302</td>\n",
       "      <td>NaN</td>\n",
       "      <td>Stockholms kommun</td>\n",
       "    </tr>\n",
       "    <tr>\n",
       "      <th>57053</th>\n",
       "      <td>Lugnets Allé 65</td>\n",
       "      <td>Hammarby Sjöstad,</td>\n",
       "      <td>52.000000</td>\n",
       "      <td>2.000000</td>\n",
       "      <td>Fastighetsbyrån Stockholm - Hammarby Sjöstad</td>\n",
       "      <td>3755.000000</td>\n",
       "      <td>2225000</td>\n",
       "      <td>2013-03-14</td>\n",
       "      <td>-3</td>\n",
       "      <td>476302</td>\n",
       "      <td>NaN</td>\n",
       "      <td>Stockholms kommun</td>\n",
       "    </tr>\n",
       "    <tr>\n",
       "      <th>57054</th>\n",
       "      <td>Lugnets Allé 53</td>\n",
       "      <td>Hammarby Sjöstad,</td>\n",
       "      <td>109.500000</td>\n",
       "      <td>5.000000</td>\n",
       "      <td>Fastighetsbyrån Stockholm - Hammarby Sjöstad</td>\n",
       "      <td>6608.000000</td>\n",
       "      <td>5400000</td>\n",
       "      <td>2013-02-22</td>\n",
       "      <td>10</td>\n",
       "      <td>476302</td>\n",
       "      <td>NaN</td>\n",
       "      <td>Stockholms kommun</td>\n",
       "    </tr>\n",
       "  </tbody>\n",
       "</table>\n",
       "<p>1256 rows × 12 columns</p>\n",
       "</div>"
      ],
      "text/plain": [
       "                      adress                 omrade        kvm      rum  \\\n",
       "3635           Tegnérgatan 5              Norrmalm,  92.000000 3.000000   \n",
       "3636          Tegnérgatan 5A  Vasastan - Östermalm,  34.000000 2.000000   \n",
       "3637          Tegnérgatan 10              Vasastan,  66.000000 2.000000   \n",
       "3638   Tegnérgatan 5 A, 2 tr   Vasastan / Norrmalm,  57.000000 2.000000   \n",
       "3639    Tegnérgatan 55A, 2tr     Vasastan/Norrmalm,  35.500000 2.000000   \n",
       "...                      ...                    ...        ...      ...   \n",
       "57050   Lugnets Allé 67, 5tr      Hammarby Sjöstad,  66.000000 2.000000   \n",
       "57051        Lugnets Allé 41            Sickla Kaj,  73.500000 3.000000   \n",
       "57052        Lugnets Allé 40      Hammarby Sjöstad,  85.500000 3.000000   \n",
       "57053        Lugnets Allé 65      Hammarby Sjöstad,  52.000000 2.000000   \n",
       "57054        Lugnets Allé 53      Hammarby Sjöstad, 109.500000 5.000000   \n",
       "\n",
       "                                            maklare      avgift  slutpris  \\\n",
       "3635                              Behrer & Partners 3746.000000  11700000   \n",
       "3636           Fastighetsbyrån Stockholm - Vasastan 1691.000000   3800000   \n",
       "3637            BlumenthalHoffman Fastighetsmäkleri 2794.000000   6900000   \n",
       "3638                      Eklund Stockholm New York 2352.000000   5890000   \n",
       "3639                    Innerstadsspecialisten S AB 2284.000000   3900000   \n",
       "...                                             ...         ...       ...   \n",
       "57050            HusmanHagberg Södermalm/Gamla Stan 4388.000000   3195000   \n",
       "57051  Fastighetsbyrån Stockholm - Hammarby Sjöstad 4269.000000   3450000   \n",
       "57052  Fastighetsbyrån Stockholm - Hammarby Sjöstad 4489.000000   3725000   \n",
       "57053  Fastighetsbyrån Stockholm - Hammarby Sjöstad 3755.000000   2225000   \n",
       "57054  Fastighetsbyrån Stockholm - Hammarby Sjöstad 6608.000000   5400000   \n",
       "\n",
       "           datum  prisförändring  gata_id_lst gata_lst      stockholm_lst  \n",
       "3635  2020-09-08              14       475246      NaN  Stockholms kommun  \n",
       "3636  2020-09-01              12       475246      NaN  Stockholms kommun  \n",
       "3637  2020-08-30              15       475246      NaN  Stockholms kommun  \n",
       "3638  2020-07-02               7       475246      NaN  Stockholms kommun  \n",
       "3639  2020-06-24              16       475246      NaN  Stockholms kommun  \n",
       "...          ...             ...          ...      ...                ...  \n",
       "57050 2013-04-18               0       476302      NaN  Stockholms kommun  \n",
       "57051 2013-04-10               6       476302      NaN  Stockholms kommun  \n",
       "57052 2013-03-22               0       476302      NaN  Stockholms kommun  \n",
       "57053 2013-03-14              -3       476302      NaN  Stockholms kommun  \n",
       "57054 2013-02-22              10       476302      NaN  Stockholms kommun  \n",
       "\n",
       "[1256 rows x 12 columns]"
      ]
     },
     "execution_count": 140,
     "metadata": {},
     "output_type": "execute_result"
    }
   ],
   "source": [
    "# Inspecting rows there gata_lst is NaN\n",
    "# I did not pick up all special cases when I created the data source for gata_lst\n",
    "# i.e.: é \n",
    "data.loc[data.gata_lst.isna()]"
   ]
  },
  {
   "cell_type": "markdown",
   "metadata": {},
   "source": [
    "# Outliers"
   ]
  },
  {
   "cell_type": "markdown",
   "metadata": {},
   "source": [
    "## kvm"
   ]
  },
  {
   "cell_type": "code",
   "execution_count": 141,
   "metadata": {
    "ExecuteTime": {
     "end_time": "2020-09-13T09:09:41.711245Z",
     "start_time": "2020-09-13T09:09:41.687041Z"
    }
   },
   "outputs": [
    {
     "data": {
      "text/plain": [
       "count   57949.000000\n",
       "mean       57.793430\n",
       "std        26.884555\n",
       "min        10.000000\n",
       "25%        38.000000\n",
       "50%        52.500000\n",
       "75%        73.000000\n",
       "max       405.000000\n",
       "Name: kvm, dtype: float64"
      ]
     },
     "execution_count": 141,
     "metadata": {},
     "output_type": "execute_result"
    }
   ],
   "source": [
    "data.kvm.describe()"
   ]
  },
  {
   "cell_type": "markdown",
   "metadata": {},
   "source": [
    "### min"
   ]
  },
  {
   "cell_type": "code",
   "execution_count": 142,
   "metadata": {
    "ExecuteTime": {
     "end_time": "2020-09-13T09:09:42.717455Z",
     "start_time": "2020-09-13T09:09:42.694484Z"
    }
   },
   "outputs": [
    {
     "data": {
      "text/plain": [
       "7394    10.000000\n",
       "22859   10.000000\n",
       "41199   11.000000\n",
       "2309    12.000000\n",
       "2310    12.000000\n",
       "Name: kvm, dtype: float64"
      ]
     },
     "execution_count": 142,
     "metadata": {},
     "output_type": "execute_result"
    }
   ],
   "source": [
    "data.kvm.nsmallest()"
   ]
  },
  {
   "cell_type": "code",
   "execution_count": 143,
   "metadata": {
    "ExecuteTime": {
     "end_time": "2020-09-13T09:09:44.231593Z",
     "start_time": "2020-09-13T09:09:44.206643Z"
    }
   },
   "outputs": [
    {
     "data": {
      "text/plain": [
       "adress                           Hantverkargatan 77, 5 tr\n",
       "omrade                          Kungsholmen/Fridhemsplan,\n",
       "kvm                                             10.000000\n",
       "rum                                              1.000000\n",
       "maklare           Fastighetsbyrån Stockholm - Kungsholmen\n",
       "avgift                                         534.000000\n",
       "slutpris                                          1900000\n",
       "datum                                 2017-06-22 00:00:00\n",
       "prisförändring                                         27\n",
       "gata_id_lst                                        475403\n",
       "gata_lst                                  Hantverkargatan\n",
       "stockholm_lst                           Stockholms kommun\n",
       "Name: 7394, dtype: object"
      ]
     },
     "execution_count": 143,
     "metadata": {},
     "output_type": "execute_result"
    }
   ],
   "source": [
    "# Values look reasonable \n",
    "data.loc[7394]"
   ]
  },
  {
   "cell_type": "markdown",
   "metadata": {},
   "source": [
    "https://www.hemnet.se/salda/lagenhet-1rum-kungsholmen-fridhemsplan-stockholms-kommun-hantverkargatan-77,-5-tr-696839\n",
    "\n",
    "Found the object and the information seems to be correct"
   ]
  },
  {
   "cell_type": "markdown",
   "metadata": {},
   "source": [
    "### max"
   ]
  },
  {
   "cell_type": "code",
   "execution_count": 144,
   "metadata": {
    "ExecuteTime": {
     "end_time": "2020-09-13T09:09:47.157651Z",
     "start_time": "2020-09-13T09:09:47.140130Z"
    }
   },
   "outputs": [
    {
     "data": {
      "text/plain": [
       "37355   405.000000\n",
       "29779   334.000000\n",
       "29388   309.000000\n",
       "30120   308.000000\n",
       "31530   279.000000\n",
       "Name: kvm, dtype: float64"
      ]
     },
     "execution_count": 144,
     "metadata": {},
     "output_type": "execute_result"
    }
   ],
   "source": [
    "data.kvm.nlargest()"
   ]
  },
  {
   "cell_type": "code",
   "execution_count": 145,
   "metadata": {
    "ExecuteTime": {
     "end_time": "2020-09-13T09:09:47.645501Z",
     "start_time": "2020-09-13T09:09:47.636527Z"
    }
   },
   "outputs": [
    {
     "data": {
      "text/plain": [
       "adress                  Svartensgatan 28 A, 2 tr ö.g\n",
       "omrade                           Södermalm Katarina,\n",
       "kvm                                       405.000000\n",
       "rum                                         1.500000\n",
       "maklare           HusmanHagberg Södermalm/Gamla Stan\n",
       "avgift                                   1836.000000\n",
       "slutpris                                     4060000\n",
       "datum                            2015-12-03 00:00:00\n",
       "prisförändring                                    33\n",
       "gata_id_lst                                   475963\n",
       "gata_lst                               Svartensgatan\n",
       "stockholm_lst                      Stockholms kommun\n",
       "Name: 37355, dtype: object"
      ]
     },
     "execution_count": 145,
     "metadata": {},
     "output_type": "execute_result"
    }
   ],
   "source": [
    "# value for kvm is not in sync with other values\n",
    "# almost sure that it should be 40.5 kvm\n",
    "data.loc[37355]"
   ]
  },
  {
   "cell_type": "code",
   "execution_count": 146,
   "metadata": {
    "ExecuteTime": {
     "end_time": "2020-09-13T09:09:48.208082Z",
     "start_time": "2020-09-13T09:09:48.196090Z"
    }
   },
   "outputs": [],
   "source": [
    "# changing the value for index = 37355\n",
    "data.loc[37355, \"kvm\"] = 40.5"
   ]
  },
  {
   "cell_type": "code",
   "execution_count": 147,
   "metadata": {
    "ExecuteTime": {
     "end_time": "2020-09-13T09:09:48.600408Z",
     "start_time": "2020-09-13T09:09:48.581925Z"
    }
   },
   "outputs": [
    {
     "data": {
      "text/plain": [
       "adress             Eriksbergsgatan 13\n",
       "omrade                     Östermalm,\n",
       "kvm                        334.000000\n",
       "rum                          9.000000\n",
       "maklare                    Lagerlings\n",
       "avgift                   10755.000000\n",
       "slutpris                     51000000\n",
       "datum             2019-12-19 00:00:00\n",
       "prisförändring                      4\n",
       "gata_id_lst                    475717\n",
       "gata_lst              Eriksbergsgatan\n",
       "stockholm_lst       Stockholms kommun\n",
       "Name: 29779, dtype: object"
      ]
     },
     "execution_count": 147,
     "metadata": {},
     "output_type": "execute_result"
    }
   ],
   "source": [
    "# value for kvm is in sync with other values\n",
    "data.loc[29779]"
   ]
  },
  {
   "cell_type": "code",
   "execution_count": 148,
   "metadata": {
    "ExecuteTime": {
     "end_time": "2020-09-13T09:09:49.102059Z",
     "start_time": "2020-09-13T09:09:49.092092Z"
    }
   },
   "outputs": [
    {
     "data": {
      "text/plain": [
       "adress                           Karlavägen 83\n",
       "omrade              Östermalm - vid Karlaplan,\n",
       "kvm                                 309.000000\n",
       "rum                                   9.000000\n",
       "maklare           Fredegårds Fastighetsbyrå AB\n",
       "avgift                            10671.000000\n",
       "slutpris                              33000000\n",
       "datum                      2015-10-12 00:00:00\n",
       "prisförändring                              -5\n",
       "gata_id_lst                             475695\n",
       "gata_lst                            Karlavägen\n",
       "stockholm_lst                Stockholms kommun\n",
       "Name: 29388, dtype: object"
      ]
     },
     "execution_count": 148,
     "metadata": {},
     "output_type": "execute_result"
    }
   ],
   "source": [
    "# value for kvm in sync with other values\n",
    "data.loc[29388]"
   ]
  },
  {
   "cell_type": "code",
   "execution_count": 149,
   "metadata": {
    "ExecuteTime": {
     "end_time": "2020-09-13T09:09:49.541729Z",
     "start_time": "2020-09-13T09:09:49.537928Z"
    }
   },
   "outputs": [],
   "source": [
    "# moving on..."
   ]
  },
  {
   "cell_type": "markdown",
   "metadata": {},
   "source": [
    "## rum"
   ]
  },
  {
   "cell_type": "code",
   "execution_count": 150,
   "metadata": {
    "ExecuteTime": {
     "end_time": "2020-09-13T09:09:50.378040Z",
     "start_time": "2020-09-13T09:09:50.360022Z"
    }
   },
   "outputs": [
    {
     "data": {
      "text/plain": [
       "count   57949.000000\n",
       "mean        2.234689\n",
       "std         0.971506\n",
       "min         1.000000\n",
       "25%         1.500000\n",
       "50%         2.000000\n",
       "75%         3.000000\n",
       "max         9.000000\n",
       "Name: rum, dtype: float64"
      ]
     },
     "execution_count": 150,
     "metadata": {},
     "output_type": "execute_result"
    }
   ],
   "source": [
    "# Looks reasonable\n",
    "data.rum.describe()"
   ]
  },
  {
   "cell_type": "code",
   "execution_count": 151,
   "metadata": {
    "ExecuteTime": {
     "end_time": "2020-09-13T09:09:50.884046Z",
     "start_time": "2020-09-13T09:09:50.868088Z"
    }
   },
   "outputs": [
    {
     "data": {
      "text/plain": [
       "2.000000    23448\n",
       "3.000000    11326\n",
       "1.000000    11291\n",
       "4.000000     4174\n",
       "1.500000     3468\n",
       "2.500000     1887\n",
       "5.000000      964\n",
       "3.500000      839\n",
       "4.500000      251\n",
       "6.000000      210\n",
       "5.500000       46\n",
       "7.000000       29\n",
       "6.500000       10\n",
       "9.000000        3\n",
       "8.000000        2\n",
       "7.500000        1\n",
       "Name: rum, dtype: int64"
      ]
     },
     "execution_count": 151,
     "metadata": {},
     "output_type": "execute_result"
    }
   ],
   "source": [
    "# Looks reasonable\n",
    "data.rum.value_counts()"
   ]
  },
  {
   "cell_type": "markdown",
   "metadata": {},
   "source": [
    "## Slutpris"
   ]
  },
  {
   "cell_type": "code",
   "execution_count": 152,
   "metadata": {
    "ExecuteTime": {
     "end_time": "2020-09-13T09:09:51.941164Z",
     "start_time": "2020-09-13T09:09:51.915242Z"
    }
   },
   "outputs": [
    {
     "data": {
      "text/plain": [
       "count      57949.000000\n",
       "mean     4728759.432259\n",
       "std      2393844.647700\n",
       "min            8.000000\n",
       "25%      3150000.000000\n",
       "50%      4100000.000000\n",
       "75%      5650000.000000\n",
       "max     60000000.000000\n",
       "Name: slutpris, dtype: float64"
      ]
     },
     "execution_count": 152,
     "metadata": {},
     "output_type": "execute_result"
    }
   ],
   "source": [
    "# changing format for displaying floats\n",
    "pd.options.display.float_format = '{:f}'.format\n",
    "\n",
    "# inspecting column slutpris\n",
    "# max seems reasonable\n",
    "# min is wrong\n",
    "data.slutpris.describe()"
   ]
  },
  {
   "cell_type": "markdown",
   "metadata": {},
   "source": [
    "### min"
   ]
  },
  {
   "cell_type": "code",
   "execution_count": 153,
   "metadata": {
    "ExecuteTime": {
     "end_time": "2020-09-13T09:09:52.674312Z",
     "start_time": "2020-09-13T09:09:52.659323Z"
    }
   },
   "outputs": [
    {
     "data": {
      "text/plain": [
       "56366          8\n",
       "40973     405000\n",
       "51623    1180000\n",
       "31124    1250000\n",
       "57832    1265000\n",
       "Name: slutpris, dtype: int64"
      ]
     },
     "execution_count": 153,
     "metadata": {},
     "output_type": "execute_result"
    }
   ],
   "source": [
    "data.slutpris.nsmallest()"
   ]
  },
  {
   "cell_type": "code",
   "execution_count": 154,
   "metadata": {
    "ExecuteTime": {
     "end_time": "2020-09-13T09:09:53.160287Z",
     "start_time": "2020-09-13T09:09:53.137350Z"
    }
   },
   "outputs": [
    {
     "data": {
      "text/plain": [
       "adress            Hammarby Allé 3, 8tr\n",
       "omrade               Hammarby Sjöstad,\n",
       "kvm                          83.500000\n",
       "rum                           3.000000\n",
       "maklare                          Notar\n",
       "avgift                     4494.000000\n",
       "slutpris                             8\n",
       "datum              2016-02-05 00:00:00\n",
       "prisförändring                    -100\n",
       "gata_id_lst                     476284\n",
       "gata_lst                           NaN\n",
       "stockholm_lst        Stockholms kommun\n",
       "Name: 56366, dtype: object"
      ]
     },
     "execution_count": 154,
     "metadata": {},
     "output_type": "execute_result"
    }
   ],
   "source": [
    "# looking at nsmallest(1)\n",
    "# can't infer appropriate value from other values\n",
    "# removing this from data-set\n",
    "data.loc[56366]"
   ]
  },
  {
   "cell_type": "code",
   "execution_count": 155,
   "metadata": {
    "ExecuteTime": {
     "end_time": "2020-09-13T09:09:53.667112Z",
     "start_time": "2020-09-13T09:09:53.652129Z"
    }
   },
   "outputs": [],
   "source": [
    "# removing row\n",
    "data.drop(56366, inplace = True)"
   ]
  },
  {
   "cell_type": "code",
   "execution_count": 156,
   "metadata": {
    "ExecuteTime": {
     "end_time": "2020-09-13T09:09:54.345963Z",
     "start_time": "2020-09-13T09:09:54.328453Z"
    }
   },
   "outputs": [
    {
     "data": {
      "text/plain": [
       "adress                  Ringvägen 122, 5 tr\n",
       "omrade                     Södermalm-Sofia,\n",
       "kvm                               74.000000\n",
       "rum                                3.000000\n",
       "maklare           Södermäklarna Mariatorget\n",
       "avgift                          3039.000000\n",
       "slutpris                             405000\n",
       "datum                   2014-04-07 00:00:00\n",
       "prisförändring                          -89\n",
       "gata_id_lst                          475989\n",
       "gata_lst                          Ringvägen\n",
       "stockholm_lst             Stockholms kommun\n",
       "Name: 40973, dtype: object"
      ]
     },
     "execution_count": 156,
     "metadata": {},
     "output_type": "execute_result"
    }
   ],
   "source": [
    "# looking at nsmallest(2)\n",
    "# Probably missed a 0 for slutpris\n",
    "# More efficient to just remove this row from the data-set\n",
    "data.loc[40973]"
   ]
  },
  {
   "cell_type": "code",
   "execution_count": 157,
   "metadata": {
    "ExecuteTime": {
     "end_time": "2020-09-13T09:09:55.305458Z",
     "start_time": "2020-09-13T09:09:55.284493Z"
    }
   },
   "outputs": [],
   "source": [
    "# remove row\n",
    "data.drop(40973, inplace = True)"
   ]
  },
  {
   "cell_type": "code",
   "execution_count": 158,
   "metadata": {
    "ExecuteTime": {
     "end_time": "2020-09-13T09:09:55.713066Z",
     "start_time": "2020-09-13T09:09:55.687617Z"
    }
   },
   "outputs": [
    {
     "data": {
      "text/plain": [
       "adress            Sjöbjörnsvägen 11, 1tr\n",
       "omrade                          Gröndal,\n",
       "kvm                            20.000000\n",
       "rum                             1.000000\n",
       "maklare                            Notar\n",
       "avgift                       1269.000000\n",
       "slutpris                         1180000\n",
       "datum                2013-10-02 00:00:00\n",
       "prisförändring                         8\n",
       "gata_id_lst                       476175\n",
       "gata_lst                  Sjöbjörnsvägen\n",
       "stockholm_lst          Stockholms kommun\n",
       "Name: 51623, dtype: object"
      ]
     },
     "execution_count": 158,
     "metadata": {},
     "output_type": "execute_result"
    }
   ],
   "source": [
    "# looking at nsmallest(3)\n",
    "# values seem reasonable\n",
    "data.loc[51623]"
   ]
  },
  {
   "cell_type": "markdown",
   "metadata": {},
   "source": [
    "### max"
   ]
  },
  {
   "cell_type": "code",
   "execution_count": 159,
   "metadata": {
    "ExecuteTime": {
     "end_time": "2020-09-13T09:09:56.853738Z",
     "start_time": "2020-09-13T09:09:56.842580Z"
    }
   },
   "outputs": [
    {
     "data": {
      "text/plain": [
       "31530    60000000\n",
       "31532    60000000\n",
       "29779    51000000\n",
       "31228    43800000\n",
       "31534    41000000\n",
       "Name: slutpris, dtype: int64"
      ]
     },
     "execution_count": 159,
     "metadata": {},
     "output_type": "execute_result"
    }
   ],
   "source": [
    "# values seem reasonable\n",
    "data.slutpris.nlargest()"
   ]
  },
  {
   "cell_type": "markdown",
   "metadata": {},
   "source": [
    "## Datum"
   ]
  },
  {
   "cell_type": "code",
   "execution_count": 162,
   "metadata": {
    "ExecuteTime": {
     "end_time": "2020-09-13T09:10:28.047451Z",
     "start_time": "2020-09-13T09:10:28.027481Z"
    }
   },
   "outputs": [
    {
     "data": {
      "text/plain": [
       "count                   57947\n",
       "unique                   2726\n",
       "top       2015-05-13 00:00:00\n",
       "freq                       89\n",
       "first     2011-02-09 00:00:00\n",
       "last      2020-09-12 00:00:00\n",
       "Name: datum, dtype: object"
      ]
     },
     "execution_count": 162,
     "metadata": {},
     "output_type": "execute_result"
    }
   ],
   "source": [
    "# Looks good\n",
    "data.datum.describe()"
   ]
  },
  {
   "cell_type": "markdown",
   "metadata": {},
   "source": [
    "## Prisförändring"
   ]
  },
  {
   "cell_type": "code",
   "execution_count": 163,
   "metadata": {
    "ExecuteTime": {
     "end_time": "2020-09-13T09:10:39.740981Z",
     "start_time": "2020-09-13T09:10:39.728586Z"
    }
   },
   "outputs": [
    {
     "data": {
      "text/plain": [
       "count       57947.000000\n",
       "mean         2254.564309\n",
       "std        540041.959270\n",
       "min           -58.000000\n",
       "25%             3.000000\n",
       "50%            10.000000\n",
       "75%            17.000000\n",
       "max     129999900.000000\n",
       "Name: prisförändring, dtype: float64"
      ]
     },
     "execution_count": 163,
     "metadata": {},
     "output_type": "execute_result"
    }
   ],
   "source": [
    "# Inspecting prisförändring\n",
    "\n",
    "# min-value is suspicious\n",
    "# max-value is suspicious\n",
    "data.prisförändring.describe()"
   ]
  },
  {
   "cell_type": "markdown",
   "metadata": {},
   "source": [
    "### min"
   ]
  },
  {
   "cell_type": "code",
   "execution_count": 164,
   "metadata": {
    "ExecuteTime": {
     "end_time": "2020-09-13T09:10:40.209847Z",
     "start_time": "2020-09-13T09:10:40.192361Z"
    }
   },
   "outputs": [
    {
     "data": {
      "text/plain": [
       "54559   -58\n",
       "19734   -49\n",
       "29244   -49\n",
       "12467   -43\n",
       "43896   -41\n",
       "Name: prisförändring, dtype: int64"
      ]
     },
     "execution_count": 164,
     "metadata": {},
     "output_type": "execute_result"
    }
   ],
   "source": [
    "data.prisförändring.nsmallest()"
   ]
  },
  {
   "cell_type": "code",
   "execution_count": 165,
   "metadata": {
    "ExecuteTime": {
     "end_time": "2020-09-13T09:10:40.443074Z",
     "start_time": "2020-09-13T09:10:40.425600Z"
    }
   },
   "outputs": [
    {
     "data": {
      "text/plain": [
       "adress                        Rosenlundsgatan 28B\n",
       "omrade                   Södermalm / Mariatorget,\n",
       "kvm                                    101.000000\n",
       "rum                                      3.000000\n",
       "maklare           Mäklarhuset Stockholm Innerstan\n",
       "avgift                                3173.000000\n",
       "slutpris                                  3304815\n",
       "datum                         2016-06-12 00:00:00\n",
       "prisförändring                                -58\n",
       "gata_id_lst                                476244\n",
       "gata_lst                          Rosenlundsgatan\n",
       "stockholm_lst                   Stockholms kommun\n",
       "Name: 54559, dtype: object"
      ]
     },
     "execution_count": 165,
     "metadata": {},
     "output_type": "execute_result"
    }
   ],
   "source": [
    "# looks strange but not impossible\n",
    "data.loc[54559]"
   ]
  },
  {
   "cell_type": "markdown",
   "metadata": {},
   "source": [
    "https://www.hemnet.se/salda/lagenhet-3rum-sodermalm-mariatorget-stockholms-kommun-rosenlundsgatan-28b-531405 \n",
    "\n",
    "Info seems to be correct"
   ]
  },
  {
   "cell_type": "markdown",
   "metadata": {},
   "source": [
    "### max"
   ]
  },
  {
   "cell_type": "code",
   "execution_count": 166,
   "metadata": {
    "ExecuteTime": {
     "end_time": "2020-09-13T09:10:41.136519Z",
     "start_time": "2020-09-13T09:10:41.126544Z"
    }
   },
   "outputs": [
    {
     "data": {
      "text/plain": [
       "50144    129999900\n",
       "32232        10897\n",
       "45062          523\n",
       "14701          374\n",
       "7192            85\n",
       "Name: prisförändring, dtype: int64"
      ]
     },
     "execution_count": 166,
     "metadata": {},
     "output_type": "execute_result"
    }
   ],
   "source": [
    "# nlargest(1) and (2) is for sure wrong\n",
    "data.prisförändring.nlargest()"
   ]
  },
  {
   "cell_type": "code",
   "execution_count": 167,
   "metadata": {
    "ExecuteTime": {
     "end_time": "2020-09-13T09:10:41.435368Z",
     "start_time": "2020-09-13T09:10:41.392882Z"
    }
   },
   "outputs": [],
   "source": [
    "# removing top2 \n",
    "data.drop(50144, inplace = True)\n",
    "data.drop(32232, inplace = True)"
   ]
  },
  {
   "cell_type": "code",
   "execution_count": 168,
   "metadata": {
    "ExecuteTime": {
     "end_time": "2020-09-13T09:10:41.656951Z",
     "start_time": "2020-09-13T09:10:41.640973Z"
    }
   },
   "outputs": [
    {
     "data": {
      "text/plain": [
       "adress                               Lundagatan 46\n",
       "omrade                                  Södermalm,\n",
       "kvm                                      36.000000\n",
       "rum                                       2.000000\n",
       "maklare           Erik Olsson Fastighetsförmedling\n",
       "avgift                                 1880.000000\n",
       "slutpris                                   3200000\n",
       "datum                          2017-10-06 00:00:00\n",
       "prisförändring                                 523\n",
       "gata_id_lst                                 476072\n",
       "gata_lst                                Lundagatan\n",
       "stockholm_lst                    Stockholms kommun\n",
       "Name: 45062, dtype: object"
      ]
     },
     "execution_count": 168,
     "metadata": {},
     "output_type": "execute_result"
    }
   ],
   "source": [
    "# unreasonable\n",
    "data.loc[45062]"
   ]
  },
  {
   "cell_type": "code",
   "execution_count": 169,
   "metadata": {
    "ExecuteTime": {
     "end_time": "2020-09-13T09:10:41.924169Z",
     "start_time": "2020-09-13T09:10:41.894260Z"
    }
   },
   "outputs": [],
   "source": [
    "data.drop(45062, inplace = True)"
   ]
  },
  {
   "cell_type": "code",
   "execution_count": 170,
   "metadata": {
    "ExecuteTime": {
     "end_time": "2020-09-13T09:10:42.143848Z",
     "start_time": "2020-09-13T09:10:42.129853Z"
    }
   },
   "outputs": [
    {
     "data": {
      "text/plain": [
       "adress                     Alströmergatan 8 A, 3tr ög\n",
       "omrade                                   Kungsholmen,\n",
       "kvm                                         64.000000\n",
       "rum                                          3.000000\n",
       "maklare           Innerstadsspecialisten Stockholm AB\n",
       "avgift                                    2601.000000\n",
       "slutpris                                      4150000\n",
       "datum                             2014-06-13 00:00:00\n",
       "prisförändring                                    374\n",
       "gata_id_lst                                    475473\n",
       "gata_lst                               Alströmergatan\n",
       "stockholm_lst                       Stockholms kommun\n",
       "Name: 14701, dtype: object"
      ]
     },
     "execution_count": 170,
     "metadata": {},
     "output_type": "execute_result"
    }
   ],
   "source": [
    "# possible but not likely to be correct\n",
    "data.loc[14701]"
   ]
  },
  {
   "cell_type": "code",
   "execution_count": 171,
   "metadata": {
    "ExecuteTime": {
     "end_time": "2020-09-13T09:10:42.426229Z",
     "start_time": "2020-09-13T09:10:42.407456Z"
    }
   },
   "outputs": [],
   "source": [
    "data.drop(14701, inplace = True)"
   ]
  },
  {
   "cell_type": "code",
   "execution_count": 172,
   "metadata": {
    "ExecuteTime": {
     "end_time": "2020-09-13T09:10:42.676787Z",
     "start_time": "2020-09-13T09:10:42.661791Z"
    }
   },
   "outputs": [
    {
     "data": {
      "text/plain": [
       "7192     85\n",
       "7177     69\n",
       "11328    69\n",
       "55033    63\n",
       "12298    62\n",
       "Name: prisförändring, dtype: int64"
      ]
     },
     "execution_count": 172,
     "metadata": {},
     "output_type": "execute_result"
    }
   ],
   "source": [
    "data.prisförändring.nlargest()"
   ]
  },
  {
   "cell_type": "code",
   "execution_count": 173,
   "metadata": {
    "ExecuteTime": {
     "end_time": "2020-09-13T09:10:42.928961Z",
     "start_time": "2020-09-13T09:10:42.910004Z"
    }
   },
   "outputs": [
    {
     "data": {
      "text/plain": [
       "adress                                  Skillinggränd 5\n",
       "omrade               Kungsholmstorg - Norr Mälarstrand,\n",
       "kvm                                           43.000000\n",
       "rum                                            2.000000\n",
       "maklare           SkandiaMäklarna Stockholm Kungsholmen\n",
       "avgift                                      2685.000000\n",
       "slutpris                                        3700000\n",
       "datum                               2016-06-16 00:00:00\n",
       "prisförändring                                       85\n",
       "gata_id_lst                                      475401\n",
       "gata_lst                                  Skillinggränd\n",
       "stockholm_lst                         Stockholms kommun\n",
       "Name: 7192, dtype: object"
      ]
     },
     "execution_count": 173,
     "metadata": {},
     "output_type": "execute_result"
    }
   ],
   "source": [
    "# possible \n",
    "data.loc[7192]"
   ]
  },
  {
   "cell_type": "markdown",
   "metadata": {},
   "source": [
    "## avgift"
   ]
  },
  {
   "cell_type": "code",
   "execution_count": 174,
   "metadata": {
    "ExecuteTime": {
     "end_time": "2020-09-13T09:10:43.489833Z",
     "start_time": "2020-09-13T09:10:43.464338Z"
    }
   },
   "outputs": [
    {
     "data": {
      "text/plain": [
       "count   57731.000000\n",
       "mean     2769.866051\n",
       "std      1230.804214\n",
       "min         1.000000\n",
       "25%      1886.000000\n",
       "50%      2539.000000\n",
       "75%      3472.000000\n",
       "max     12945.000000\n",
       "Name: avgift, dtype: float64"
      ]
     },
     "execution_count": 174,
     "metadata": {},
     "output_type": "execute_result"
    }
   ],
   "source": [
    "# min-value: some apartments have zero fee\n",
    "# max-value is not unreasonable\n",
    "data.avgift.describe()"
   ]
  },
  {
   "cell_type": "code",
   "execution_count": 175,
   "metadata": {
    "ExecuteTime": {
     "end_time": "2020-09-13T09:10:43.742451Z",
     "start_time": "2020-09-13T09:10:43.728490Z"
    }
   },
   "outputs": [
    {
     "data": {
      "text/plain": [
       "30351   12945.000000\n",
       "31530   11651.000000\n",
       "23426   11438.000000\n",
       "42435   11192.000000\n",
       "27805   11137.000000\n",
       "Name: avgift, dtype: float64"
      ]
     },
     "execution_count": 175,
     "metadata": {},
     "output_type": "execute_result"
    }
   ],
   "source": [
    "data.avgift.nlargest()"
   ]
  },
  {
   "cell_type": "code",
   "execution_count": 176,
   "metadata": {
    "ExecuteTime": {
     "end_time": "2020-09-13T09:10:44.039307Z",
     "start_time": "2020-09-13T09:10:44.017344Z"
    }
   },
   "outputs": [
    {
     "data": {
      "text/plain": [
       "adress                  Brahegatan 23\n",
       "omrade                     Östermalm,\n",
       "kvm                        223.000000\n",
       "rum                          6.000000\n",
       "maklare                    Lagerlings\n",
       "avgift                   12945.000000\n",
       "slutpris                     22500000\n",
       "datum             2019-09-27 00:00:00\n",
       "prisförändring                      2\n",
       "gata_id_lst                    475740\n",
       "gata_lst                   Brahegatan\n",
       "stockholm_lst       Stockholms kommun\n",
       "Name: 30351, dtype: object"
      ]
     },
     "execution_count": 176,
     "metadata": {},
     "output_type": "execute_result"
    }
   ],
   "source": [
    "# reasonable\n",
    "data.loc[30351]"
   ]
  },
  {
   "cell_type": "markdown",
   "metadata": {},
   "source": [
    "# Final inspection"
   ]
  },
  {
   "cell_type": "code",
   "execution_count": 177,
   "metadata": {
    "ExecuteTime": {
     "end_time": "2020-09-13T09:10:44.606778Z",
     "start_time": "2020-09-13T09:10:44.582825Z"
    }
   },
   "outputs": [
    {
     "name": "stdout",
     "output_type": "stream",
     "text": [
      "<class 'pandas.core.frame.DataFrame'>\n",
      "Int64Index: 57943 entries, 0 to 58168\n",
      "Data columns (total 12 columns):\n",
      " #   Column          Non-Null Count  Dtype         \n",
      "---  ------          --------------  -----         \n",
      " 0   adress          57943 non-null  object        \n",
      " 1   omrade          57218 non-null  object        \n",
      " 2   kvm             57943 non-null  float64       \n",
      " 3   rum             57943 non-null  float64       \n",
      " 4   maklare         57943 non-null  object        \n",
      " 5   avgift          57731 non-null  float64       \n",
      " 6   slutpris        57943 non-null  int64         \n",
      " 7   datum           57943 non-null  datetime64[ns]\n",
      " 8   prisförändring  57943 non-null  int64         \n",
      " 9   gata_id_lst     57943 non-null  int64         \n",
      " 10  gata_lst        56688 non-null  object        \n",
      " 11  stockholm_lst   57943 non-null  object        \n",
      "dtypes: datetime64[ns](1), float64(3), int64(3), object(5)\n",
      "memory usage: 8.2+ MB\n"
     ]
    }
   ],
   "source": [
    "# I'm satisfied with the data-types\n",
    "data.info()"
   ]
  },
  {
   "cell_type": "code",
   "execution_count": 178,
   "metadata": {
    "ExecuteTime": {
     "end_time": "2020-09-13T09:10:44.934714Z",
     "start_time": "2020-09-13T09:10:44.888750Z"
    }
   },
   "outputs": [
    {
     "data": {
      "text/html": [
       "<div>\n",
       "<style scoped>\n",
       "    .dataframe tbody tr th:only-of-type {\n",
       "        vertical-align: middle;\n",
       "    }\n",
       "\n",
       "    .dataframe tbody tr th {\n",
       "        vertical-align: top;\n",
       "    }\n",
       "\n",
       "    .dataframe thead th {\n",
       "        text-align: right;\n",
       "    }\n",
       "</style>\n",
       "<table border=\"1\" class=\"dataframe\">\n",
       "  <thead>\n",
       "    <tr style=\"text-align: right;\">\n",
       "      <th></th>\n",
       "      <th>kvm</th>\n",
       "      <th>rum</th>\n",
       "      <th>avgift</th>\n",
       "      <th>slutpris</th>\n",
       "      <th>prisförändring</th>\n",
       "      <th>gata_id_lst</th>\n",
       "    </tr>\n",
       "  </thead>\n",
       "  <tbody>\n",
       "    <tr>\n",
       "      <th>count</th>\n",
       "      <td>57943.000000</td>\n",
       "      <td>57943.000000</td>\n",
       "      <td>57731.000000</td>\n",
       "      <td>57943.000000</td>\n",
       "      <td>57943.000000</td>\n",
       "      <td>57943.000000</td>\n",
       "    </tr>\n",
       "    <tr>\n",
       "      <th>mean</th>\n",
       "      <td>57.785147</td>\n",
       "      <td>2.234610</td>\n",
       "      <td>2769.866051</td>\n",
       "      <td>4728775.267625</td>\n",
       "      <td>10.933918</td>\n",
       "      <td>475749.097648</td>\n",
       "    </tr>\n",
       "    <tr>\n",
       "      <th>std</th>\n",
       "      <td>26.844243</td>\n",
       "      <td>0.971472</td>\n",
       "      <td>1230.804214</td>\n",
       "      <td>2393242.844100</td>\n",
       "      <td>9.863888</td>\n",
       "      <td>329.646886</td>\n",
       "    </tr>\n",
       "    <tr>\n",
       "      <th>min</th>\n",
       "      <td>10.000000</td>\n",
       "      <td>1.000000</td>\n",
       "      <td>1.000000</td>\n",
       "      <td>1180000.000000</td>\n",
       "      <td>-58.000000</td>\n",
       "      <td>475079.000000</td>\n",
       "    </tr>\n",
       "    <tr>\n",
       "      <th>25%</th>\n",
       "      <td>38.000000</td>\n",
       "      <td>1.500000</td>\n",
       "      <td>1886.000000</td>\n",
       "      <td>3150000.000000</td>\n",
       "      <td>3.000000</td>\n",
       "      <td>475473.000000</td>\n",
       "    </tr>\n",
       "    <tr>\n",
       "      <th>50%</th>\n",
       "      <td>52.500000</td>\n",
       "      <td>2.000000</td>\n",
       "      <td>2539.000000</td>\n",
       "      <td>4100000.000000</td>\n",
       "      <td>10.000000</td>\n",
       "      <td>475691.000000</td>\n",
       "    </tr>\n",
       "    <tr>\n",
       "      <th>75%</th>\n",
       "      <td>73.000000</td>\n",
       "      <td>3.000000</td>\n",
       "      <td>3472.000000</td>\n",
       "      <td>5650000.000000</td>\n",
       "      <td>17.000000</td>\n",
       "      <td>476062.000000</td>\n",
       "    </tr>\n",
       "    <tr>\n",
       "      <th>max</th>\n",
       "      <td>334.000000</td>\n",
       "      <td>9.000000</td>\n",
       "      <td>12945.000000</td>\n",
       "      <td>60000000.000000</td>\n",
       "      <td>85.000000</td>\n",
       "      <td>476350.000000</td>\n",
       "    </tr>\n",
       "  </tbody>\n",
       "</table>\n",
       "</div>"
      ],
      "text/plain": [
       "               kvm          rum       avgift        slutpris  prisförändring  \\\n",
       "count 57943.000000 57943.000000 57731.000000    57943.000000    57943.000000   \n",
       "mean     57.785147     2.234610  2769.866051  4728775.267625       10.933918   \n",
       "std      26.844243     0.971472  1230.804214  2393242.844100        9.863888   \n",
       "min      10.000000     1.000000     1.000000  1180000.000000      -58.000000   \n",
       "25%      38.000000     1.500000  1886.000000  3150000.000000        3.000000   \n",
       "50%      52.500000     2.000000  2539.000000  4100000.000000       10.000000   \n",
       "75%      73.000000     3.000000  3472.000000  5650000.000000       17.000000   \n",
       "max     334.000000     9.000000 12945.000000 60000000.000000       85.000000   \n",
       "\n",
       "        gata_id_lst  \n",
       "count  57943.000000  \n",
       "mean  475749.097648  \n",
       "std      329.646886  \n",
       "min   475079.000000  \n",
       "25%   475473.000000  \n",
       "50%   475691.000000  \n",
       "75%   476062.000000  \n",
       "max   476350.000000  "
      ]
     },
     "execution_count": 178,
     "metadata": {},
     "output_type": "execute_result"
    }
   ],
   "source": [
    "# No values seem unreasonable now\n",
    "data.describe()"
   ]
  },
  {
   "cell_type": "markdown",
   "metadata": {},
   "source": [
    "# Resetting index before writing to csv"
   ]
  },
  {
   "cell_type": "code",
   "execution_count": 179,
   "metadata": {
    "ExecuteTime": {
     "end_time": "2020-09-13T09:10:45.548640Z",
     "start_time": "2020-09-13T09:10:45.536641Z"
    }
   },
   "outputs": [],
   "source": [
    "# resetting index and dropping the outdated index\n",
    "data.reset_index(inplace = True, drop=True)"
   ]
  },
  {
   "cell_type": "code",
   "execution_count": 180,
   "metadata": {
    "ExecuteTime": {
     "end_time": "2020-09-13T09:10:45.865066Z",
     "start_time": "2020-09-13T09:10:45.834099Z"
    }
   },
   "outputs": [
    {
     "data": {
      "text/html": [
       "<div>\n",
       "<style scoped>\n",
       "    .dataframe tbody tr th:only-of-type {\n",
       "        vertical-align: middle;\n",
       "    }\n",
       "\n",
       "    .dataframe tbody tr th {\n",
       "        vertical-align: top;\n",
       "    }\n",
       "\n",
       "    .dataframe thead th {\n",
       "        text-align: right;\n",
       "    }\n",
       "</style>\n",
       "<table border=\"1\" class=\"dataframe\">\n",
       "  <thead>\n",
       "    <tr style=\"text-align: right;\">\n",
       "      <th></th>\n",
       "      <th>adress</th>\n",
       "      <th>omrade</th>\n",
       "      <th>kvm</th>\n",
       "      <th>rum</th>\n",
       "      <th>maklare</th>\n",
       "      <th>avgift</th>\n",
       "      <th>slutpris</th>\n",
       "      <th>datum</th>\n",
       "      <th>prisförändring</th>\n",
       "      <th>gata_id_lst</th>\n",
       "      <th>gata_lst</th>\n",
       "      <th>stockholm_lst</th>\n",
       "    </tr>\n",
       "  </thead>\n",
       "  <tbody>\n",
       "    <tr>\n",
       "      <th>0</th>\n",
       "      <td>Gamla Brogatan 25, 2tr</td>\n",
       "      <td>Vasastan - City/Norrmalm,</td>\n",
       "      <td>114.000000</td>\n",
       "      <td>3.500000</td>\n",
       "      <td>Fastighetsbyrån Stockholm - Vasastan</td>\n",
       "      <td>6769.000000</td>\n",
       "      <td>7600000</td>\n",
       "      <td>2018-04-13</td>\n",
       "      <td>-5</td>\n",
       "      <td>475079</td>\n",
       "      <td>Gamla Brogatan</td>\n",
       "      <td>Stockholms kommun</td>\n",
       "    </tr>\n",
       "    <tr>\n",
       "      <th>1</th>\n",
       "      <td>Gamla Brogatan 25, 2 tr</td>\n",
       "      <td>Vasastan- City/ Norrmalm,</td>\n",
       "      <td>71.000000</td>\n",
       "      <td>2.000000</td>\n",
       "      <td>Mäklarhuset Stockholm Innerstan</td>\n",
       "      <td>4696.000000</td>\n",
       "      <td>5050000</td>\n",
       "      <td>2016-06-23</td>\n",
       "      <td>4</td>\n",
       "      <td>475079</td>\n",
       "      <td>Gamla Brogatan</td>\n",
       "      <td>Stockholms kommun</td>\n",
       "    </tr>\n",
       "    <tr>\n",
       "      <th>2</th>\n",
       "      <td>Gamla Brogatan 25</td>\n",
       "      <td>Vasastan- City/ Norrmalm,</td>\n",
       "      <td>102.000000</td>\n",
       "      <td>4.000000</td>\n",
       "      <td>Mäklarhuset Stockholm Innerstan</td>\n",
       "      <td>6519.000000</td>\n",
       "      <td>6950000</td>\n",
       "      <td>2016-04-29</td>\n",
       "      <td>1</td>\n",
       "      <td>475079</td>\n",
       "      <td>Gamla Brogatan</td>\n",
       "      <td>Stockholms kommun</td>\n",
       "    </tr>\n",
       "    <tr>\n",
       "      <th>3</th>\n",
       "      <td>Gamla Brogatan 25, 2tr</td>\n",
       "      <td>Vasastan - City/Norrmalm,</td>\n",
       "      <td>107.000000</td>\n",
       "      <td>4.000000</td>\n",
       "      <td>Fastighetsbyrån Stockholm - Vasastan</td>\n",
       "      <td>6713.000000</td>\n",
       "      <td>7150000</td>\n",
       "      <td>2015-11-26</td>\n",
       "      <td>2</td>\n",
       "      <td>475079</td>\n",
       "      <td>Gamla Brogatan</td>\n",
       "      <td>Stockholms kommun</td>\n",
       "    </tr>\n",
       "    <tr>\n",
       "      <th>4</th>\n",
       "      <td>Drottninggatan 114 A, 3 tr</td>\n",
       "      <td>Vasastan - Norrmalm,</td>\n",
       "      <td>90.000000</td>\n",
       "      <td>3.000000</td>\n",
       "      <td>Bostadsrättsspecialisten</td>\n",
       "      <td>3822.000000</td>\n",
       "      <td>8900000</td>\n",
       "      <td>2020-08-13</td>\n",
       "      <td>0</td>\n",
       "      <td>475084</td>\n",
       "      <td>Drottninggatan</td>\n",
       "      <td>Stockholms kommun</td>\n",
       "    </tr>\n",
       "    <tr>\n",
       "      <th>...</th>\n",
       "      <td>...</td>\n",
       "      <td>...</td>\n",
       "      <td>...</td>\n",
       "      <td>...</td>\n",
       "      <td>...</td>\n",
       "      <td>...</td>\n",
       "      <td>...</td>\n",
       "      <td>...</td>\n",
       "      <td>...</td>\n",
       "      <td>...</td>\n",
       "      <td>...</td>\n",
       "      <td>...</td>\n",
       "    </tr>\n",
       "    <tr>\n",
       "      <th>57938</th>\n",
       "      <td>Lindevägen 56, 3 tr</td>\n",
       "      <td>Enskede Gård,</td>\n",
       "      <td>74.500000</td>\n",
       "      <td>3.000000</td>\n",
       "      <td>Svensk Fastighetsförmedling</td>\n",
       "      <td>5002.000000</td>\n",
       "      <td>2740000</td>\n",
       "      <td>2014-04-10</td>\n",
       "      <td>19</td>\n",
       "      <td>476350</td>\n",
       "      <td>Lindevägen</td>\n",
       "      <td>Stockholms kommun</td>\n",
       "    </tr>\n",
       "    <tr>\n",
       "      <th>57939</th>\n",
       "      <td>Lindevägen 56</td>\n",
       "      <td>Enskede Gård,</td>\n",
       "      <td>63.000000</td>\n",
       "      <td>2.000000</td>\n",
       "      <td>Svensk Fastighetsförmedling</td>\n",
       "      <td>3960.000000</td>\n",
       "      <td>1905000</td>\n",
       "      <td>2014-02-28</td>\n",
       "      <td>12</td>\n",
       "      <td>476350</td>\n",
       "      <td>Lindevägen</td>\n",
       "      <td>Stockholms kommun</td>\n",
       "    </tr>\n",
       "    <tr>\n",
       "      <th>57940</th>\n",
       "      <td>Lindevägen 44, 2tr</td>\n",
       "      <td>Enskede Gård,</td>\n",
       "      <td>107.000000</td>\n",
       "      <td>4.000000</td>\n",
       "      <td>Fastighetsbyrån Enskede</td>\n",
       "      <td>6977.000000</td>\n",
       "      <td>3720000</td>\n",
       "      <td>2013-08-22</td>\n",
       "      <td>6</td>\n",
       "      <td>476350</td>\n",
       "      <td>Lindevägen</td>\n",
       "      <td>Stockholms kommun</td>\n",
       "    </tr>\n",
       "    <tr>\n",
       "      <th>57941</th>\n",
       "      <td>Lindevägen 50</td>\n",
       "      <td>Enskede Gård,</td>\n",
       "      <td>61.500000</td>\n",
       "      <td>2.000000</td>\n",
       "      <td>Mäklarhuset Enskede</td>\n",
       "      <td>4221.000000</td>\n",
       "      <td>2100000</td>\n",
       "      <td>2013-03-07</td>\n",
       "      <td>11</td>\n",
       "      <td>476350</td>\n",
       "      <td>Lindevägen</td>\n",
       "      <td>Stockholms kommun</td>\n",
       "    </tr>\n",
       "    <tr>\n",
       "      <th>57942</th>\n",
       "      <td>Lindevägen 54</td>\n",
       "      <td>Enskede Gård,</td>\n",
       "      <td>75.500000</td>\n",
       "      <td>3.000000</td>\n",
       "      <td>Mäklarhuset Enskede</td>\n",
       "      <td>5060.000000</td>\n",
       "      <td>2290000</td>\n",
       "      <td>2013-01-15</td>\n",
       "      <td>0</td>\n",
       "      <td>476350</td>\n",
       "      <td>Lindevägen</td>\n",
       "      <td>Stockholms kommun</td>\n",
       "    </tr>\n",
       "  </tbody>\n",
       "</table>\n",
       "<p>57943 rows × 12 columns</p>\n",
       "</div>"
      ],
      "text/plain": [
       "                           adress                     omrade        kvm  \\\n",
       "0          Gamla Brogatan 25, 2tr  Vasastan - City/Norrmalm, 114.000000   \n",
       "1         Gamla Brogatan 25, 2 tr  Vasastan- City/ Norrmalm,  71.000000   \n",
       "2               Gamla Brogatan 25  Vasastan- City/ Norrmalm, 102.000000   \n",
       "3          Gamla Brogatan 25, 2tr  Vasastan - City/Norrmalm, 107.000000   \n",
       "4      Drottninggatan 114 A, 3 tr       Vasastan - Norrmalm,  90.000000   \n",
       "...                           ...                        ...        ...   \n",
       "57938         Lindevägen 56, 3 tr              Enskede Gård,  74.500000   \n",
       "57939               Lindevägen 56              Enskede Gård,  63.000000   \n",
       "57940          Lindevägen 44, 2tr              Enskede Gård, 107.000000   \n",
       "57941               Lindevägen 50              Enskede Gård,  61.500000   \n",
       "57942               Lindevägen 54              Enskede Gård,  75.500000   \n",
       "\n",
       "           rum                               maklare      avgift  slutpris  \\\n",
       "0     3.500000  Fastighetsbyrån Stockholm - Vasastan 6769.000000   7600000   \n",
       "1     2.000000       Mäklarhuset Stockholm Innerstan 4696.000000   5050000   \n",
       "2     4.000000       Mäklarhuset Stockholm Innerstan 6519.000000   6950000   \n",
       "3     4.000000  Fastighetsbyrån Stockholm - Vasastan 6713.000000   7150000   \n",
       "4     3.000000              Bostadsrättsspecialisten 3822.000000   8900000   \n",
       "...        ...                                   ...         ...       ...   \n",
       "57938 3.000000           Svensk Fastighetsförmedling 5002.000000   2740000   \n",
       "57939 2.000000           Svensk Fastighetsförmedling 3960.000000   1905000   \n",
       "57940 4.000000               Fastighetsbyrån Enskede 6977.000000   3720000   \n",
       "57941 2.000000                   Mäklarhuset Enskede 4221.000000   2100000   \n",
       "57942 3.000000                   Mäklarhuset Enskede 5060.000000   2290000   \n",
       "\n",
       "           datum  prisförändring  gata_id_lst        gata_lst  \\\n",
       "0     2018-04-13              -5       475079  Gamla Brogatan   \n",
       "1     2016-06-23               4       475079  Gamla Brogatan   \n",
       "2     2016-04-29               1       475079  Gamla Brogatan   \n",
       "3     2015-11-26               2       475079  Gamla Brogatan   \n",
       "4     2020-08-13               0       475084  Drottninggatan   \n",
       "...          ...             ...          ...             ...   \n",
       "57938 2014-04-10              19       476350      Lindevägen   \n",
       "57939 2014-02-28              12       476350      Lindevägen   \n",
       "57940 2013-08-22               6       476350      Lindevägen   \n",
       "57941 2013-03-07              11       476350      Lindevägen   \n",
       "57942 2013-01-15               0       476350      Lindevägen   \n",
       "\n",
       "           stockholm_lst  \n",
       "0      Stockholms kommun  \n",
       "1      Stockholms kommun  \n",
       "2      Stockholms kommun  \n",
       "3      Stockholms kommun  \n",
       "4      Stockholms kommun  \n",
       "...                  ...  \n",
       "57938  Stockholms kommun  \n",
       "57939  Stockholms kommun  \n",
       "57940  Stockholms kommun  \n",
       "57941  Stockholms kommun  \n",
       "57942  Stockholms kommun  \n",
       "\n",
       "[57943 rows x 12 columns]"
      ]
     },
     "execution_count": 180,
     "metadata": {},
     "output_type": "execute_result"
    }
   ],
   "source": [
    "# inspecting index, looks correct\n",
    "data"
   ]
  },
  {
   "cell_type": "markdown",
   "metadata": {},
   "source": [
    "# Clean data to_csv"
   ]
  },
  {
   "cell_type": "code",
   "execution_count": 181,
   "metadata": {
    "ExecuteTime": {
     "end_time": "2020-09-13T09:10:48.719534Z",
     "start_time": "2020-09-13T09:10:47.949063Z"
    }
   },
   "outputs": [],
   "source": [
    "data.to_csv(\"sthlm_raw_clean.csv\", index = False)"
   ]
  },
  {
   "cell_type": "code",
   "execution_count": null,
   "metadata": {},
   "outputs": [],
   "source": []
  }
 ],
 "metadata": {
  "kernelspec": {
   "display_name": "Python 3",
   "language": "python",
   "name": "python3"
  },
  "language_info": {
   "codemirror_mode": {
    "name": "ipython",
    "version": 3
   },
   "file_extension": ".py",
   "mimetype": "text/x-python",
   "name": "python",
   "nbconvert_exporter": "python",
   "pygments_lexer": "ipython3",
   "version": "3.8.3"
  },
  "toc": {
   "base_numbering": 1,
   "nav_menu": {},
   "number_sections": true,
   "sideBar": true,
   "skip_h1_title": false,
   "title_cell": "Table of Contents",
   "title_sidebar": "Contents",
   "toc_cell": false,
   "toc_position": {
    "height": "789px",
    "left": "931px",
    "top": "231px",
    "width": "384px"
   },
   "toc_section_display": true,
   "toc_window_display": true
  }
 },
 "nbformat": 4,
 "nbformat_minor": 4
}
