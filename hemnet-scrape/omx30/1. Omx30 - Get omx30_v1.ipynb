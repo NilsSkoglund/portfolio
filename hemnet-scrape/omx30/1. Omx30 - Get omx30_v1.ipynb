{
 "cells": [
  {
   "cell_type": "code",
   "execution_count": 1,
   "metadata": {
    "ExecuteTime": {
     "end_time": "2020-09-13T14:33:53.862132Z",
     "start_time": "2020-09-13T14:33:53.394464Z"
    }
   },
   "outputs": [],
   "source": [
    "import pandas as pd\n",
    "import numpy as np"
   ]
  },
  {
   "cell_type": "markdown",
   "metadata": {},
   "source": [
    "Source data for omx30 from url:\n",
    "http://www.nasdaqomxnordic.com/index/historiska_kurser?Instrument=SE0000337842\n",
    "\n",
    "You can specify date-range and download csv-file"
   ]
  },
  {
   "cell_type": "code",
   "execution_count": 15,
   "metadata": {
    "ExecuteTime": {
     "end_time": "2020-09-13T14:51:32.212271Z",
     "start_time": "2020-09-13T14:51:32.194583Z"
    }
   },
   "outputs": [],
   "source": [
    "# I've downloaded csv-file and named it omx30_source and uploaded it to same folder\n",
    "# read csv_file with specifications sep; and skiprows=1\n",
    "# save info in df named omx30_raw\n",
    "omx30_raw = pd.read_csv(\"omx30_source.csv\",sep=\";\", skiprows=1)"
   ]
  },
  {
   "cell_type": "markdown",
   "metadata": {},
   "source": [
    "# Cleaning csv"
   ]
  },
  {
   "cell_type": "code",
   "execution_count": 17,
   "metadata": {
    "ExecuteTime": {
     "end_time": "2020-09-13T14:51:45.977439Z",
     "start_time": "2020-09-13T14:51:45.957943Z"
    }
   },
   "outputs": [
    {
     "data": {
      "text/html": [
       "<div>\n",
       "<style scoped>\n",
       "    .dataframe tbody tr th:only-of-type {\n",
       "        vertical-align: middle;\n",
       "    }\n",
       "\n",
       "    .dataframe tbody tr th {\n",
       "        vertical-align: top;\n",
       "    }\n",
       "\n",
       "    .dataframe thead th {\n",
       "        text-align: right;\n",
       "    }\n",
       "</style>\n",
       "<table border=\"1\" class=\"dataframe\">\n",
       "  <thead>\n",
       "    <tr style=\"text-align: right;\">\n",
       "      <th></th>\n",
       "      <th>Datum</th>\n",
       "      <th>Högstakurs</th>\n",
       "      <th>Lägstakurs</th>\n",
       "      <th>Stängn.kurs</th>\n",
       "      <th>Genomsnittspris</th>\n",
       "      <th>Tot.vol.</th>\n",
       "      <th>Oms</th>\n",
       "      <th>Unnamed: 7</th>\n",
       "    </tr>\n",
       "  </thead>\n",
       "  <tbody>\n",
       "    <tr>\n",
       "      <th>0</th>\n",
       "      <td>2020-09-11</td>\n",
       "      <td>1812,00</td>\n",
       "      <td>1792,21</td>\n",
       "      <td>1801,46</td>\n",
       "      <td>NaN</td>\n",
       "      <td>1</td>\n",
       "      <td>NaN</td>\n",
       "      <td>NaN</td>\n",
       "    </tr>\n",
       "    <tr>\n",
       "      <th>1</th>\n",
       "      <td>2020-09-10</td>\n",
       "      <td>1813,76</td>\n",
       "      <td>1792,43</td>\n",
       "      <td>1802,85</td>\n",
       "      <td>NaN</td>\n",
       "      <td>1</td>\n",
       "      <td>NaN</td>\n",
       "      <td>NaN</td>\n",
       "    </tr>\n",
       "    <tr>\n",
       "      <th>2</th>\n",
       "      <td>2020-09-09</td>\n",
       "      <td>1812,82</td>\n",
       "      <td>1779,38</td>\n",
       "      <td>1812,58</td>\n",
       "      <td>NaN</td>\n",
       "      <td>1</td>\n",
       "      <td>NaN</td>\n",
       "      <td>NaN</td>\n",
       "    </tr>\n",
       "    <tr>\n",
       "      <th>3</th>\n",
       "      <td>2020-09-08</td>\n",
       "      <td>1801,25</td>\n",
       "      <td>1768,43</td>\n",
       "      <td>1782,60</td>\n",
       "      <td>NaN</td>\n",
       "      <td>1</td>\n",
       "      <td>NaN</td>\n",
       "      <td>NaN</td>\n",
       "    </tr>\n",
       "    <tr>\n",
       "      <th>4</th>\n",
       "      <td>2020-09-07</td>\n",
       "      <td>1800,91</td>\n",
       "      <td>1773,94</td>\n",
       "      <td>1799,26</td>\n",
       "      <td>NaN</td>\n",
       "      <td>1</td>\n",
       "      <td>NaN</td>\n",
       "      <td>NaN</td>\n",
       "    </tr>\n",
       "  </tbody>\n",
       "</table>\n",
       "</div>"
      ],
      "text/plain": [
       "        Datum Högstakurs Lägstakurs Stängn.kurs  Genomsnittspris  Tot.vol.  \\\n",
       "0  2020-09-11    1812,00    1792,21     1801,46              NaN         1   \n",
       "1  2020-09-10    1813,76    1792,43     1802,85              NaN         1   \n",
       "2  2020-09-09    1812,82    1779,38     1812,58              NaN         1   \n",
       "3  2020-09-08    1801,25    1768,43     1782,60              NaN         1   \n",
       "4  2020-09-07    1800,91    1773,94     1799,26              NaN         1   \n",
       "\n",
       "   Oms  Unnamed: 7  \n",
       "0  NaN         NaN  \n",
       "1  NaN         NaN  \n",
       "2  NaN         NaN  \n",
       "3  NaN         NaN  \n",
       "4  NaN         NaN  "
      ]
     },
     "execution_count": 17,
     "metadata": {},
     "output_type": "execute_result"
    }
   ],
   "source": [
    "# Inspecting df\n",
    "# I'm only interested in column \"Datum\" and \"Stängn.kurs\" so I'm getting rid of the other columns\n",
    "omx30_raw.head()"
   ]
  },
  {
   "cell_type": "code",
   "execution_count": 19,
   "metadata": {
    "ExecuteTime": {
     "end_time": "2020-09-13T14:53:19.853293Z",
     "start_time": "2020-09-13T14:53:19.841371Z"
    }
   },
   "outputs": [],
   "source": [
    "# Keeping only columns of interest\n",
    "omx30_raw = omx30_raw[[\"Datum\", \"Stängn.kurs\"]]"
   ]
  },
  {
   "cell_type": "code",
   "execution_count": 20,
   "metadata": {
    "ExecuteTime": {
     "end_time": "2020-09-13T14:53:47.429422Z",
     "start_time": "2020-09-13T14:53:47.406959Z"
    }
   },
   "outputs": [
    {
     "data": {
      "text/html": [
       "<div>\n",
       "<style scoped>\n",
       "    .dataframe tbody tr th:only-of-type {\n",
       "        vertical-align: middle;\n",
       "    }\n",
       "\n",
       "    .dataframe tbody tr th {\n",
       "        vertical-align: top;\n",
       "    }\n",
       "\n",
       "    .dataframe thead th {\n",
       "        text-align: right;\n",
       "    }\n",
       "</style>\n",
       "<table border=\"1\" class=\"dataframe\">\n",
       "  <thead>\n",
       "    <tr style=\"text-align: right;\">\n",
       "      <th></th>\n",
       "      <th>Datum</th>\n",
       "      <th>Stängn.kurs</th>\n",
       "    </tr>\n",
       "  </thead>\n",
       "  <tbody>\n",
       "    <tr>\n",
       "      <th>0</th>\n",
       "      <td>2020-09-11</td>\n",
       "      <td>1801,46</td>\n",
       "    </tr>\n",
       "    <tr>\n",
       "      <th>1</th>\n",
       "      <td>2020-09-10</td>\n",
       "      <td>1802,85</td>\n",
       "    </tr>\n",
       "    <tr>\n",
       "      <th>2</th>\n",
       "      <td>2020-09-09</td>\n",
       "      <td>1812,58</td>\n",
       "    </tr>\n",
       "    <tr>\n",
       "      <th>3</th>\n",
       "      <td>2020-09-08</td>\n",
       "      <td>1782,60</td>\n",
       "    </tr>\n",
       "    <tr>\n",
       "      <th>4</th>\n",
       "      <td>2020-09-07</td>\n",
       "      <td>1799,26</td>\n",
       "    </tr>\n",
       "  </tbody>\n",
       "</table>\n",
       "</div>"
      ],
      "text/plain": [
       "        Datum Stängn.kurs\n",
       "0  2020-09-11     1801,46\n",
       "1  2020-09-10     1802,85\n",
       "2  2020-09-09     1812,58\n",
       "3  2020-09-08     1782,60\n",
       "4  2020-09-07     1799,26"
      ]
     },
     "execution_count": 20,
     "metadata": {},
     "output_type": "execute_result"
    }
   ],
   "source": [
    "# Inspecting df\n",
    "omx30_raw.head()"
   ]
  },
  {
   "cell_type": "code",
   "execution_count": 22,
   "metadata": {
    "ExecuteTime": {
     "end_time": "2020-09-13T14:54:55.185468Z",
     "start_time": "2020-09-13T14:54:55.113119Z"
    }
   },
   "outputs": [
    {
     "name": "stderr",
     "output_type": "stream",
     "text": [
      "C:\\Users\\bjorn\\anaconda3\\lib\\site-packages\\pandas\\core\\frame.py:4125: SettingWithCopyWarning: \n",
      "A value is trying to be set on a copy of a slice from a DataFrame\n",
      "\n",
      "See the caveats in the documentation: https://pandas.pydata.org/pandas-docs/stable/user_guide/indexing.html#returning-a-view-versus-a-copy\n",
      "  return super().rename(\n"
     ]
    }
   ],
   "source": [
    "# renaming columns\n",
    "omx30_raw.rename(columns = {\"Datum\":\"datum\", \"Stängn.kurs\":\"SK\"}, inplace = True)"
   ]
  },
  {
   "cell_type": "code",
   "execution_count": 29,
   "metadata": {
    "ExecuteTime": {
     "end_time": "2020-09-13T14:57:07.494902Z",
     "start_time": "2020-09-13T14:57:07.472910Z"
    }
   },
   "outputs": [
    {
     "name": "stderr",
     "output_type": "stream",
     "text": [
      "C:\\Users\\bjorn\\anaconda3\\lib\\site-packages\\pandas\\core\\generic.py:5303: SettingWithCopyWarning: \n",
      "A value is trying to be set on a copy of a slice from a DataFrame.\n",
      "Try using .loc[row_indexer,col_indexer] = value instead\n",
      "\n",
      "See the caveats in the documentation: https://pandas.pydata.org/pandas-docs/stable/user_guide/indexing.html#returning-a-view-versus-a-copy\n",
      "  self[name] = value\n"
     ]
    }
   ],
   "source": [
    "# Replacing , for numerical decimals to . \n",
    "omx30_raw.SK = omx30_raw.SK.str.replace(\",\",\".\")"
   ]
  },
  {
   "cell_type": "code",
   "execution_count": 32,
   "metadata": {
    "ExecuteTime": {
     "end_time": "2020-09-13T14:57:50.710221Z",
     "start_time": "2020-09-13T14:57:50.642256Z"
    }
   },
   "outputs": [],
   "source": [
    "# changing dtype for datum to datetime\n",
    "omx30_raw.datum = pd.to_datetime(omx30_raw.datum)"
   ]
  },
  {
   "cell_type": "code",
   "execution_count": 37,
   "metadata": {
    "ExecuteTime": {
     "end_time": "2020-09-13T14:58:56.440438Z",
     "start_time": "2020-09-13T14:58:56.428418Z"
    }
   },
   "outputs": [],
   "source": [
    "# changing dtype for SK to float\n",
    "omx30_raw.SK = omx30_raw.SK.astype(float)"
   ]
  },
  {
   "cell_type": "code",
   "execution_count": 38,
   "metadata": {
    "ExecuteTime": {
     "end_time": "2020-09-13T14:58:59.990206Z",
     "start_time": "2020-09-13T14:58:59.972738Z"
    }
   },
   "outputs": [
    {
     "name": "stdout",
     "output_type": "stream",
     "text": [
      "<class 'pandas.core.frame.DataFrame'>\n",
      "RangeIndex: 1930 entries, 0 to 1929\n",
      "Data columns (total 2 columns):\n",
      " #   Column  Non-Null Count  Dtype         \n",
      "---  ------  --------------  -----         \n",
      " 0   datum   1930 non-null   datetime64[ns]\n",
      " 1   SK      1930 non-null   float64       \n",
      "dtypes: datetime64[ns](1), float64(1)\n",
      "memory usage: 30.3 KB\n"
     ]
    }
   ],
   "source": [
    "# Inspecting df-info\n",
    "omx30_raw.info()"
   ]
  },
  {
   "cell_type": "markdown",
   "metadata": {},
   "source": [
    "# add columns for year and month"
   ]
  },
  {
   "cell_type": "code",
   "execution_count": 41,
   "metadata": {
    "ExecuteTime": {
     "end_time": "2020-09-13T15:00:22.673256Z",
     "start_time": "2020-09-13T15:00:22.665866Z"
    }
   },
   "outputs": [
    {
     "name": "stderr",
     "output_type": "stream",
     "text": [
      "<ipython-input-41-7d4b127a5078>:1: SettingWithCopyWarning: \n",
      "A value is trying to be set on a copy of a slice from a DataFrame.\n",
      "Try using .loc[row_indexer,col_indexer] = value instead\n",
      "\n",
      "See the caveats in the documentation: https://pandas.pydata.org/pandas-docs/stable/user_guide/indexing.html#returning-a-view-versus-a-copy\n",
      "  omx30_raw[\"år\"] = omx30_raw[\"datum\"].dt.year\n"
     ]
    }
   ],
   "source": [
    "# Add a column for year\n",
    "omx30_raw[\"år\"] = omx30_raw[\"datum\"].dt.year"
   ]
  },
  {
   "cell_type": "code",
   "execution_count": 40,
   "metadata": {
    "ExecuteTime": {
     "end_time": "2020-09-13T15:00:19.724639Z",
     "start_time": "2020-09-13T15:00:19.718655Z"
    }
   },
   "outputs": [
    {
     "name": "stderr",
     "output_type": "stream",
     "text": [
      "<ipython-input-40-68afda852759>:1: SettingWithCopyWarning: \n",
      "A value is trying to be set on a copy of a slice from a DataFrame.\n",
      "Try using .loc[row_indexer,col_indexer] = value instead\n",
      "\n",
      "See the caveats in the documentation: https://pandas.pydata.org/pandas-docs/stable/user_guide/indexing.html#returning-a-view-versus-a-copy\n",
      "  omx30_raw[\"månad\"] = omx30_raw[\"datum\"].dt.month\n"
     ]
    }
   ],
   "source": [
    "# add column for month \n",
    "omx30_raw[\"månad\"] = omx30_raw[\"datum\"].dt.month"
   ]
  },
  {
   "cell_type": "code",
   "execution_count": 42,
   "metadata": {
    "ExecuteTime": {
     "end_time": "2020-09-13T15:00:29.225799Z",
     "start_time": "2020-09-13T15:00:29.203834Z"
    }
   },
   "outputs": [
    {
     "data": {
      "text/html": [
       "<div>\n",
       "<style scoped>\n",
       "    .dataframe tbody tr th:only-of-type {\n",
       "        vertical-align: middle;\n",
       "    }\n",
       "\n",
       "    .dataframe tbody tr th {\n",
       "        vertical-align: top;\n",
       "    }\n",
       "\n",
       "    .dataframe thead th {\n",
       "        text-align: right;\n",
       "    }\n",
       "</style>\n",
       "<table border=\"1\" class=\"dataframe\">\n",
       "  <thead>\n",
       "    <tr style=\"text-align: right;\">\n",
       "      <th></th>\n",
       "      <th>datum</th>\n",
       "      <th>SK</th>\n",
       "      <th>månad</th>\n",
       "      <th>år</th>\n",
       "    </tr>\n",
       "  </thead>\n",
       "  <tbody>\n",
       "    <tr>\n",
       "      <th>0</th>\n",
       "      <td>2020-09-11</td>\n",
       "      <td>1801.46</td>\n",
       "      <td>9</td>\n",
       "      <td>2020</td>\n",
       "    </tr>\n",
       "    <tr>\n",
       "      <th>1</th>\n",
       "      <td>2020-09-10</td>\n",
       "      <td>1802.85</td>\n",
       "      <td>9</td>\n",
       "      <td>2020</td>\n",
       "    </tr>\n",
       "    <tr>\n",
       "      <th>2</th>\n",
       "      <td>2020-09-09</td>\n",
       "      <td>1812.58</td>\n",
       "      <td>9</td>\n",
       "      <td>2020</td>\n",
       "    </tr>\n",
       "    <tr>\n",
       "      <th>3</th>\n",
       "      <td>2020-09-08</td>\n",
       "      <td>1782.60</td>\n",
       "      <td>9</td>\n",
       "      <td>2020</td>\n",
       "    </tr>\n",
       "    <tr>\n",
       "      <th>4</th>\n",
       "      <td>2020-09-07</td>\n",
       "      <td>1799.26</td>\n",
       "      <td>9</td>\n",
       "      <td>2020</td>\n",
       "    </tr>\n",
       "  </tbody>\n",
       "</table>\n",
       "</div>"
      ],
      "text/plain": [
       "       datum       SK  månad    år\n",
       "0 2020-09-11  1801.46      9  2020\n",
       "1 2020-09-10  1802.85      9  2020\n",
       "2 2020-09-09  1812.58      9  2020\n",
       "3 2020-09-08  1782.60      9  2020\n",
       "4 2020-09-07  1799.26      9  2020"
      ]
     },
     "execution_count": 42,
     "metadata": {},
     "output_type": "execute_result"
    }
   ],
   "source": [
    "# Inspecting df\n",
    "omx30_raw.head()"
   ]
  },
  {
   "cell_type": "code",
   "execution_count": 49,
   "metadata": {
    "ExecuteTime": {
     "end_time": "2020-09-13T15:02:50.538486Z",
     "start_time": "2020-09-13T15:02:50.515548Z"
    }
   },
   "outputs": [
    {
     "name": "stderr",
     "output_type": "stream",
     "text": [
      "<ipython-input-49-e1b02a912aeb>:1: SettingWithCopyWarning: \n",
      "A value is trying to be set on a copy of a slice from a DataFrame.\n",
      "Try using .loc[row_indexer,col_indexer] = value instead\n",
      "\n",
      "See the caveats in the documentation: https://pandas.pydata.org/pandas-docs/stable/user_guide/indexing.html#returning-a-view-versus-a-copy\n",
      "  omx30_raw[\"år_månad\"] = pd.to_datetime(omx30_raw.år.astype(str) + \"-\" + omx30_raw.månad.astype(str))\n"
     ]
    }
   ],
   "source": [
    "# add column with year and month\n",
    "omx30_raw[\"år_månad\"] = pd.to_datetime(omx30_raw.år.astype(str) + \"-\" + omx30_raw.månad.astype(str))"
   ]
  },
  {
   "cell_type": "code",
   "execution_count": 50,
   "metadata": {
    "ExecuteTime": {
     "end_time": "2020-09-13T15:03:08.795170Z",
     "start_time": "2020-09-13T15:03:08.776225Z"
    }
   },
   "outputs": [
    {
     "data": {
      "text/html": [
       "<div>\n",
       "<style scoped>\n",
       "    .dataframe tbody tr th:only-of-type {\n",
       "        vertical-align: middle;\n",
       "    }\n",
       "\n",
       "    .dataframe tbody tr th {\n",
       "        vertical-align: top;\n",
       "    }\n",
       "\n",
       "    .dataframe thead th {\n",
       "        text-align: right;\n",
       "    }\n",
       "</style>\n",
       "<table border=\"1\" class=\"dataframe\">\n",
       "  <thead>\n",
       "    <tr style=\"text-align: right;\">\n",
       "      <th></th>\n",
       "      <th>datum</th>\n",
       "      <th>SK</th>\n",
       "      <th>månad</th>\n",
       "      <th>år</th>\n",
       "      <th>år_månad</th>\n",
       "    </tr>\n",
       "  </thead>\n",
       "  <tbody>\n",
       "    <tr>\n",
       "      <th>0</th>\n",
       "      <td>2020-09-11</td>\n",
       "      <td>1801.46</td>\n",
       "      <td>9</td>\n",
       "      <td>2020</td>\n",
       "      <td>2020-09-01</td>\n",
       "    </tr>\n",
       "    <tr>\n",
       "      <th>1</th>\n",
       "      <td>2020-09-10</td>\n",
       "      <td>1802.85</td>\n",
       "      <td>9</td>\n",
       "      <td>2020</td>\n",
       "      <td>2020-09-01</td>\n",
       "    </tr>\n",
       "    <tr>\n",
       "      <th>2</th>\n",
       "      <td>2020-09-09</td>\n",
       "      <td>1812.58</td>\n",
       "      <td>9</td>\n",
       "      <td>2020</td>\n",
       "      <td>2020-09-01</td>\n",
       "    </tr>\n",
       "    <tr>\n",
       "      <th>3</th>\n",
       "      <td>2020-09-08</td>\n",
       "      <td>1782.60</td>\n",
       "      <td>9</td>\n",
       "      <td>2020</td>\n",
       "      <td>2020-09-01</td>\n",
       "    </tr>\n",
       "    <tr>\n",
       "      <th>4</th>\n",
       "      <td>2020-09-07</td>\n",
       "      <td>1799.26</td>\n",
       "      <td>9</td>\n",
       "      <td>2020</td>\n",
       "      <td>2020-09-01</td>\n",
       "    </tr>\n",
       "  </tbody>\n",
       "</table>\n",
       "</div>"
      ],
      "text/plain": [
       "       datum       SK  månad    år   år_månad\n",
       "0 2020-09-11  1801.46      9  2020 2020-09-01\n",
       "1 2020-09-10  1802.85      9  2020 2020-09-01\n",
       "2 2020-09-09  1812.58      9  2020 2020-09-01\n",
       "3 2020-09-08  1782.60      9  2020 2020-09-01\n",
       "4 2020-09-07  1799.26      9  2020 2020-09-01"
      ]
     },
     "execution_count": 50,
     "metadata": {},
     "output_type": "execute_result"
    }
   ],
   "source": [
    "# Inspecting df\n",
    "omx30_raw.head()"
   ]
  },
  {
   "cell_type": "code",
   "execution_count": null,
   "metadata": {},
   "outputs": [],
   "source": []
  },
  {
   "cell_type": "markdown",
   "metadata": {},
   "source": [
    "# Groupby: year and month. Calc: avg. SK"
   ]
  },
  {
   "cell_type": "code",
   "execution_count": 54,
   "metadata": {
    "ExecuteTime": {
     "end_time": "2020-09-13T15:09:43.751780Z",
     "start_time": "2020-09-13T15:09:43.741224Z"
    }
   },
   "outputs": [],
   "source": [
    "# new df with avg. SK grouped by year and month\n",
    "# so every row has the average SK for a specific month\n",
    "# the table has every monthly average SK for the period of interest\n",
    "omx30_yrmo_avg = omx30_raw.groupby(\"år_månad\")[[\"SK\"]].mean()"
   ]
  },
  {
   "cell_type": "code",
   "execution_count": 61,
   "metadata": {
    "ExecuteTime": {
     "end_time": "2020-09-13T15:12:52.743259Z",
     "start_time": "2020-09-13T15:12:52.722268Z"
    }
   },
   "outputs": [
    {
     "data": {
      "text/html": [
       "<div>\n",
       "<style scoped>\n",
       "    .dataframe tbody tr th:only-of-type {\n",
       "        vertical-align: middle;\n",
       "    }\n",
       "\n",
       "    .dataframe tbody tr th {\n",
       "        vertical-align: top;\n",
       "    }\n",
       "\n",
       "    .dataframe thead th {\n",
       "        text-align: right;\n",
       "    }\n",
       "</style>\n",
       "<table border=\"1\" class=\"dataframe\">\n",
       "  <thead>\n",
       "    <tr style=\"text-align: right;\">\n",
       "      <th></th>\n",
       "      <th>SK</th>\n",
       "      <th>SK_n</th>\n",
       "    </tr>\n",
       "    <tr>\n",
       "      <th>år_månad</th>\n",
       "      <th></th>\n",
       "      <th></th>\n",
       "    </tr>\n",
       "  </thead>\n",
       "  <tbody>\n",
       "    <tr>\n",
       "      <th>2013-01-01</th>\n",
       "      <td>1140.678182</td>\n",
       "      <td>1.000000</td>\n",
       "    </tr>\n",
       "    <tr>\n",
       "      <th>2013-02-01</th>\n",
       "      <td>1183.766500</td>\n",
       "      <td>1.037774</td>\n",
       "    </tr>\n",
       "    <tr>\n",
       "      <th>2013-03-01</th>\n",
       "      <td>1205.377500</td>\n",
       "      <td>1.056720</td>\n",
       "    </tr>\n",
       "    <tr>\n",
       "      <th>2013-04-01</th>\n",
       "      <td>1178.400000</td>\n",
       "      <td>1.033070</td>\n",
       "    </tr>\n",
       "    <tr>\n",
       "      <th>2013-05-01</th>\n",
       "      <td>1225.900476</td>\n",
       "      <td>1.074712</td>\n",
       "    </tr>\n",
       "    <tr>\n",
       "      <th>...</th>\n",
       "      <td>...</td>\n",
       "      <td>...</td>\n",
       "    </tr>\n",
       "    <tr>\n",
       "      <th>2020-05-01</th>\n",
       "      <td>1559.440526</td>\n",
       "      <td>1.367117</td>\n",
       "    </tr>\n",
       "    <tr>\n",
       "      <th>2020-06-01</th>\n",
       "      <td>1669.241429</td>\n",
       "      <td>1.463376</td>\n",
       "    </tr>\n",
       "    <tr>\n",
       "      <th>2020-07-01</th>\n",
       "      <td>1738.922174</td>\n",
       "      <td>1.524463</td>\n",
       "    </tr>\n",
       "    <tr>\n",
       "      <th>2020-08-01</th>\n",
       "      <td>1766.410000</td>\n",
       "      <td>1.548561</td>\n",
       "    </tr>\n",
       "    <tr>\n",
       "      <th>2020-09-01</th>\n",
       "      <td>1785.961111</td>\n",
       "      <td>1.565701</td>\n",
       "    </tr>\n",
       "  </tbody>\n",
       "</table>\n",
       "<p>93 rows × 2 columns</p>\n",
       "</div>"
      ],
      "text/plain": [
       "                     SK      SK_n\n",
       "år_månad                         \n",
       "2013-01-01  1140.678182  1.000000\n",
       "2013-02-01  1183.766500  1.037774\n",
       "2013-03-01  1205.377500  1.056720\n",
       "2013-04-01  1178.400000  1.033070\n",
       "2013-05-01  1225.900476  1.074712\n",
       "...                 ...       ...\n",
       "2020-05-01  1559.440526  1.367117\n",
       "2020-06-01  1669.241429  1.463376\n",
       "2020-07-01  1738.922174  1.524463\n",
       "2020-08-01  1766.410000  1.548561\n",
       "2020-09-01  1785.961111  1.565701\n",
       "\n",
       "[93 rows x 2 columns]"
      ]
     },
     "execution_count": 61,
     "metadata": {},
     "output_type": "execute_result"
    }
   ],
   "source": [
    "# Inspecting df\n",
    "omx30_yrmo_avg"
   ]
  },
  {
   "cell_type": "code",
   "execution_count": 56,
   "metadata": {
    "ExecuteTime": {
     "end_time": "2020-09-13T15:11:40.779063Z",
     "start_time": "2020-09-13T15:11:40.776056Z"
    }
   },
   "outputs": [],
   "source": [
    "# I want to normalize the values \n",
    "# I'm achieving this through dividing each value with the starting value\n",
    "def omx30_SK_n(x):\n",
    "    return x / 1140.678182"
   ]
  },
  {
   "cell_type": "code",
   "execution_count": 58,
   "metadata": {
    "ExecuteTime": {
     "end_time": "2020-09-13T15:12:08.139398Z",
     "start_time": "2020-09-13T15:12:08.068726Z"
    }
   },
   "outputs": [],
   "source": [
    "# adding column with normalized values\n",
    "omx30_yrmo_avg[\"SK_n\"] = omx30_yrmo_avg.SK.apply(omx30_SK_n)"
   ]
  },
  {
   "cell_type": "code",
   "execution_count": 59,
   "metadata": {
    "ExecuteTime": {
     "end_time": "2020-09-13T15:12:11.161934Z",
     "start_time": "2020-09-13T15:12:11.140482Z"
    }
   },
   "outputs": [
    {
     "data": {
      "text/html": [
       "<div>\n",
       "<style scoped>\n",
       "    .dataframe tbody tr th:only-of-type {\n",
       "        vertical-align: middle;\n",
       "    }\n",
       "\n",
       "    .dataframe tbody tr th {\n",
       "        vertical-align: top;\n",
       "    }\n",
       "\n",
       "    .dataframe thead th {\n",
       "        text-align: right;\n",
       "    }\n",
       "</style>\n",
       "<table border=\"1\" class=\"dataframe\">\n",
       "  <thead>\n",
       "    <tr style=\"text-align: right;\">\n",
       "      <th></th>\n",
       "      <th>SK</th>\n",
       "      <th>SK_n</th>\n",
       "    </tr>\n",
       "    <tr>\n",
       "      <th>år_månad</th>\n",
       "      <th></th>\n",
       "      <th></th>\n",
       "    </tr>\n",
       "  </thead>\n",
       "  <tbody>\n",
       "    <tr>\n",
       "      <th>2013-01-01</th>\n",
       "      <td>1140.678182</td>\n",
       "      <td>1.000000</td>\n",
       "    </tr>\n",
       "    <tr>\n",
       "      <th>2013-02-01</th>\n",
       "      <td>1183.766500</td>\n",
       "      <td>1.037774</td>\n",
       "    </tr>\n",
       "    <tr>\n",
       "      <th>2013-03-01</th>\n",
       "      <td>1205.377500</td>\n",
       "      <td>1.056720</td>\n",
       "    </tr>\n",
       "    <tr>\n",
       "      <th>2013-04-01</th>\n",
       "      <td>1178.400000</td>\n",
       "      <td>1.033070</td>\n",
       "    </tr>\n",
       "    <tr>\n",
       "      <th>2013-05-01</th>\n",
       "      <td>1225.900476</td>\n",
       "      <td>1.074712</td>\n",
       "    </tr>\n",
       "    <tr>\n",
       "      <th>...</th>\n",
       "      <td>...</td>\n",
       "      <td>...</td>\n",
       "    </tr>\n",
       "    <tr>\n",
       "      <th>2020-05-01</th>\n",
       "      <td>1559.440526</td>\n",
       "      <td>1.367117</td>\n",
       "    </tr>\n",
       "    <tr>\n",
       "      <th>2020-06-01</th>\n",
       "      <td>1669.241429</td>\n",
       "      <td>1.463376</td>\n",
       "    </tr>\n",
       "    <tr>\n",
       "      <th>2020-07-01</th>\n",
       "      <td>1738.922174</td>\n",
       "      <td>1.524463</td>\n",
       "    </tr>\n",
       "    <tr>\n",
       "      <th>2020-08-01</th>\n",
       "      <td>1766.410000</td>\n",
       "      <td>1.548561</td>\n",
       "    </tr>\n",
       "    <tr>\n",
       "      <th>2020-09-01</th>\n",
       "      <td>1785.961111</td>\n",
       "      <td>1.565701</td>\n",
       "    </tr>\n",
       "  </tbody>\n",
       "</table>\n",
       "<p>93 rows × 2 columns</p>\n",
       "</div>"
      ],
      "text/plain": [
       "                     SK      SK_n\n",
       "år_månad                         \n",
       "2013-01-01  1140.678182  1.000000\n",
       "2013-02-01  1183.766500  1.037774\n",
       "2013-03-01  1205.377500  1.056720\n",
       "2013-04-01  1178.400000  1.033070\n",
       "2013-05-01  1225.900476  1.074712\n",
       "...                 ...       ...\n",
       "2020-05-01  1559.440526  1.367117\n",
       "2020-06-01  1669.241429  1.463376\n",
       "2020-07-01  1738.922174  1.524463\n",
       "2020-08-01  1766.410000  1.548561\n",
       "2020-09-01  1785.961111  1.565701\n",
       "\n",
       "[93 rows x 2 columns]"
      ]
     },
     "execution_count": 59,
     "metadata": {},
     "output_type": "execute_result"
    }
   ],
   "source": [
    "# Inspecting df\n",
    "# Looks got, ready to write to csv\n",
    "omx30_yrmo_avg"
   ]
  },
  {
   "cell_type": "markdown",
   "metadata": {},
   "source": [
    "# Writing final df to csv"
   ]
  },
  {
   "cell_type": "code",
   "execution_count": 62,
   "metadata": {
    "ExecuteTime": {
     "end_time": "2020-09-13T15:14:32.058789Z",
     "start_time": "2020-09-13T15:14:32.034801Z"
    }
   },
   "outputs": [],
   "source": [
    "omx30_yrmo_avg.to_csv(\"omx30_v1.csv\")"
   ]
  },
  {
   "cell_type": "code",
   "execution_count": null,
   "metadata": {},
   "outputs": [],
   "source": []
  }
 ],
 "metadata": {
  "kernelspec": {
   "display_name": "Python 3",
   "language": "python",
   "name": "python3"
  },
  "language_info": {
   "codemirror_mode": {
    "name": "ipython",
    "version": 3
   },
   "file_extension": ".py",
   "mimetype": "text/x-python",
   "name": "python",
   "nbconvert_exporter": "python",
   "pygments_lexer": "ipython3",
   "version": "3.8.3"
  },
  "toc": {
   "base_numbering": 1,
   "nav_menu": {},
   "number_sections": true,
   "sideBar": true,
   "skip_h1_title": false,
   "title_cell": "Table of Contents",
   "title_sidebar": "Contents",
   "toc_cell": false,
   "toc_position": {},
   "toc_section_display": true,
   "toc_window_display": true
  }
 },
 "nbformat": 4,
 "nbformat_minor": 4
}
