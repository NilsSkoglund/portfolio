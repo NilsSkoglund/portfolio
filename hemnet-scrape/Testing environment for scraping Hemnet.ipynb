{
 "cells": [
  {
   "cell_type": "markdown",
   "metadata": {},
   "source": [
    "# Import libs, read file, create test_lst"
   ]
  },
  {
   "cell_type": "code",
   "execution_count": 1,
   "metadata": {
    "ExecuteTime": {
     "end_time": "2020-09-15T15:11:08.897480Z",
     "start_time": "2020-09-15T15:11:08.286218Z"
    }
   },
   "outputs": [],
   "source": [
    "import requests\n",
    "from bs4 import BeautifulSoup\n",
    "import pandas as pd\n",
    "import numpy as np\n",
    "import re\n",
    "import math"
   ]
  },
  {
   "cell_type": "code",
   "execution_count": 6,
   "metadata": {
    "ExecuteTime": {
     "end_time": "2020-09-15T15:11:50.259129Z",
     "start_time": "2020-09-15T15:11:50.182894Z"
    }
   },
   "outputs": [],
   "source": [
    "df = pd.read_csv(\"sthlm/id_sold_sthlm.csv\")"
   ]
  },
  {
   "cell_type": "code",
   "execution_count": 8,
   "metadata": {
    "ExecuteTime": {
     "end_time": "2020-09-15T15:12:53.099590Z",
     "start_time": "2020-09-15T15:12:53.092589Z"
    }
   },
   "outputs": [],
   "source": [
    "lst_gator = df.values.tolist()"
   ]
  },
  {
   "cell_type": "markdown",
   "metadata": {},
   "source": [
    "# Skapa test_lst med id\n",
    "\n",
    "- I wan´t to avoid looping 58000 times every time I'm trying out something new\n",
    "- Therefore I'm creating a testing environment to try out new things more efficiently\n",
    "\n",
    "**No. of loops for testing environment?**\n",
    "\n",
    "<u>High number</u>\n",
    "- Pro: Higher probability of finding different special cases\n",
    "- Con: More time\n",
    "\n",
    "<u>Low number</u>\n",
    "- Pro: Less time\n",
    "- Con: Lower probability of finding different special cases\n",
    "\n",
    "**test_lst_gator**\n",
    "- test_lst_gator is the name of the list I will loop over when trying out new functionality\n",
    "- It should give ~500 loops for min 5 different streets\n",
    "- Any conditional logic  which yields such a list is ok"
   ]
  },
  {
   "cell_type": "code",
   "execution_count": 24,
   "metadata": {
    "ExecuteTime": {
     "end_time": "2020-09-15T15:30:33.758287Z",
     "start_time": "2020-09-15T15:30:33.742565Z"
    }
   },
   "outputs": [],
   "source": [
    "mask_min = df.antal_sålda >= 58\n",
    "mask_max = df.antal_sålda <= 60"
   ]
  },
  {
   "cell_type": "code",
   "execution_count": 25,
   "metadata": {
    "ExecuteTime": {
     "end_time": "2020-09-15T15:30:33.916940Z",
     "start_time": "2020-09-15T15:30:33.901970Z"
    }
   },
   "outputs": [],
   "source": [
    "test_lst_gator = df.loc[mask_min & mask_max].values.tolist()"
   ]
  },
  {
   "cell_type": "code",
   "execution_count": 26,
   "metadata": {
    "ExecuteTime": {
     "end_time": "2020-09-15T15:30:34.182763Z",
     "start_time": "2020-09-15T15:30:34.168724Z"
    }
   },
   "outputs": [
    {
     "data": {
      "text/plain": [
       "10"
      ]
     },
     "execution_count": 26,
     "metadata": {},
     "output_type": "execute_result"
    }
   ],
   "source": [
    "len(test_lst_gator)"
   ]
  },
  {
   "cell_type": "code",
   "execution_count": 27,
   "metadata": {
    "ExecuteTime": {
     "end_time": "2020-09-15T15:30:34.670227Z",
     "start_time": "2020-09-15T15:30:34.654736Z"
    },
    "scrolled": true
   },
   "outputs": [
    {
     "name": "stdout",
     "output_type": "stream",
     "text": [
      "594\n"
     ]
    }
   ],
   "source": [
    "a=0\n",
    "for i in test_lst_gator:\n",
    "    a += i[0]\n",
    "print(a)"
   ]
  },
  {
   "cell_type": "markdown",
   "metadata": {},
   "source": [
    "# Test-loop for test_lst\n",
    "\n",
    "- In this loop I'm trying out 1 functionality at a time\n",
    "- 1 functionality is 1 scraping 1 piece of information from a sold apartment"
   ]
  },
  {
   "cell_type": "code",
   "execution_count": 28,
   "metadata": {
    "ExecuteTime": {
     "end_time": "2020-09-15T15:31:06.985627Z",
     "start_time": "2020-09-15T15:30:56.885384Z"
    }
   },
   "outputs": [
    {
     "name": "stdout",
     "output_type": "stream",
     "text": [
      "593\n"
     ]
    }
   ],
   "source": [
    "temp_lst = []\n",
    "\n",
    "for i in test_lst_gator:    \n",
    "    page_num = math.ceil(int(i[0])/50)\n",
    "    for j in range(1, page_num+1):\n",
    "        url = f\"https://www.hemnet.se/salda/bostader?item_types%5B%5D=bostadsratt&location_ids%5B%5D={i[2]}&page={j}&sold_age=all\"\n",
    "        response = requests.get(url)\n",
    "        html = response.content\n",
    "        soup = BeautifulSoup(html, (\"lxml\"))\n",
    "\n",
    "        container = soup.select(\"li.sold-results__normal-hit\")\n",
    "\n",
    "        for x in container:\n",
    "            gata = i[1]\n",
    "            gata_re = re.findall(r\"[-] +[A-Za-zåäöÅÄÖ\\s]+[,]\", gata)\n",
    "            gata_re_strip = gata_re[0].strip(\",-\").strip()\n",
    "            temp_lst.append(gata_re_strip)\n",
    "print(len(temp_lst))"
   ]
  },
  {
   "cell_type": "markdown",
   "metadata": {},
   "source": [
    "# Main-loop for test_lst\n",
    "\n",
    "- I this loop I'm running all functionality for the objects in test_lst\n",
    "- All functionality is scraping all pieces of information from each object"
   ]
  },
  {
   "cell_type": "code",
   "execution_count": 119,
   "metadata": {
    "ExecuteTime": {
     "end_time": "2020-09-08T10:34:11.155960Z",
     "start_time": "2020-09-08T10:33:59.428918Z"
    }
   },
   "outputs": [],
   "source": [
    "adress_lst = []\n",
    "omrade_lst = []\n",
    "kvm_lst = []\n",
    "rum_lst = []\n",
    "maklare_lst = []\n",
    "avgift_lst = []\n",
    "slutpris_lst = []\n",
    "datum_lst = []\n",
    "change_lst = []\n",
    "gata_id_lst = []\n",
    "gata_lst = []\n",
    "stockholm_lst = []\n",
    "\n",
    "\n",
    "for i in test_lst:    \n",
    "    page_num = math.ceil(int(i[0])/50)\n",
    "    for j in range(1, page_num+1):\n",
    "        url = f\"https://www.hemnet.se/salda/bostader?item_types%5B%5D=bostadsratt&location_ids%5B%5D={i[2]}&page={j}&sold_age=all\"\n",
    "        response = requests.get(url)\n",
    "        html = response.content\n",
    "        soup = BeautifulSoup(html, (\"lxml\"))\n",
    "\n",
    "        container = soup.select(\"li.sold-results__normal-hit\")\n",
    "\n",
    "        for x in container: \n",
    "            \n",
    "            # Lägg till kolumner från listan \n",
    "            \n",
    "            ## id\n",
    "            gata_id_lst.append(i[2])\n",
    "            \n",
    "            ## gata\n",
    "            gata = i[1]\n",
    "            gata_re = re.findall(r\"[-] +[A-Za-zåäöÅÄÖ\\s]+[,]\", gata)\n",
    "            gata_re_strip = gata_re[0].strip(\",-\").strip()\n",
    "            gata_lst.append(gata_re_strip)\n",
    "            \n",
    "            ## Stockholms kommun\n",
    "            if \"Stockholms kommun\" in i[1]:\n",
    "                stockholm_lst.append(\"Stockholms kommun\")\n",
    "            else:\n",
    "                stockholm_lst.append(np.nan)\n",
    "            \n",
    "            # Lägg till kolumner från Hemnet\n",
    "\n",
    "            ## adress\n",
    "            adress = [x.text for x in x.select(\"span.item-result-meta-attribute-is-bold\")]\n",
    "            if adress:\n",
    "                adress_lst.append(adress[0])\n",
    "            else:\n",
    "                adress.lst.append(np.nan)\n",
    "            \n",
    "            ## område\n",
    "            omr = [x.text for x in x.select(\"span.item-link\")]\n",
    "            if len(omr) == 1:\n",
    "                omrade_lst.append(np.nan)    \n",
    "            else:\n",
    "                omrade_lst.append(omr[1].strip())\n",
    "                \n",
    "            ## KVM\n",
    "            kvm = [x.text for x in x.select(\"div.sold-property-listing__subheading\")]    \n",
    "            kvm = re.findall(\"[0-9]+\", kvm[0])\n",
    "\n",
    "            if len(kvm) <= 1:\n",
    "                kvm_lst.append(np.nan) \n",
    "            elif len(kvm) == 2:\n",
    "                kvm = kvm[0]\n",
    "                kvm_lst.append(kvm)\n",
    "            elif len(kvm) ==3:\n",
    "                kvm = \".\".join(kvm[0:2])\n",
    "                kvm_lst.append(kvm)\n",
    "            elif len(kvm) ==4:\n",
    "                kvm = \".\".join(kvm[0:2])\n",
    "                kvm_lst.append(kvm)\n",
    "            else:\n",
    "                kvm_lst.append(np.nan)     \n",
    "            \n",
    "            ## Rum\n",
    "            rum = [x.text for x in x.select(\"div.sold-property-listing__subheading\")]   \n",
    "            rum = re.findall(\"[0-9]+\", rum[0])\n",
    "\n",
    "            if not rum:\n",
    "                rum_lst.append(np.nan)\n",
    "            elif len(rum) == 1 and int(rum[0]) < 10:\n",
    "                rum_lst.append(rum[0])\n",
    "            elif len(rum) == 1 and int(rum[0]) > 10:\n",
    "                rum_lst.append(np.nan)\n",
    "            elif len(rum) == 2:\n",
    "                rum = rum[1]\n",
    "                rum_lst.append(rum)\n",
    "            elif len(rum) == 3:\n",
    "                rum = \".\".join(rum[2])\n",
    "                rum_lst.append(rum)\n",
    "            elif len(rum) ==4:\n",
    "                rum = \".\".join(rum[2:4])\n",
    "                rum_lst.append(rum)\n",
    "            else:\n",
    "                rum_lst.append(np.nan)\n",
    "                \n",
    "            ## Mäklare\n",
    "            maklare = [x.text.strip() for x in x.select(\"div.sold-property-listing__broker\")]\n",
    "            if maklare:\n",
    "                maklare_lst.append(maklare[0])\n",
    "            else:\n",
    "                maklare_lst.append(np.nan)\n",
    "                \n",
    "            ## Avgift\n",
    "            avgift = [x.text.strip() for x in x.select(\"div.sold-property-listing__fee\")]\n",
    "            if len(avgift) == 1:\n",
    "                avgift = re.findall(\"[0-9]+\", avgift[0])\n",
    "                avgift_lst.append(\"\".join(avgift))\n",
    "            else: \n",
    "                avgift_lst.append(np.nan)\n",
    "                \n",
    "            ## Slutpris\n",
    "            slutpris = [re.findall(\"[0-9]+\", x.text) for x in x.select(\"span.sold-property-listing__subheading\")]\n",
    "            if slutpris:\n",
    "                slutpris_lst.append(\"\".join(slutpris[0]))\n",
    "            else:\n",
    "                slutpris_lst.append(np.nan)\n",
    "                \n",
    "            ## Datum\n",
    "            datum = [x.text.strip() for x in x.select(\"div.sold-property-listing__sold-date\")]\n",
    "            if datum:\n",
    "                datum_lst.append(datum[0])\n",
    "            else:\n",
    "                datum_lst.append(np.nan)\n",
    "                \n",
    "            ## Måste ligga längs ned så som koden ser ut nu. Annars förstör continue\n",
    "            ## Prisförändring i % \n",
    "            change = [re.findall(\"[0-9+-]+\", x.text) for x in x.select(\"div.sold-property-listing__price-change\")]\n",
    "            if not change:\n",
    "                change_lst.append(0)\n",
    "                continue\n",
    "            if not change[0]:\n",
    "                change_lst.append(0)\n",
    "                continue\n",
    "            else:\n",
    "                change_lst.append(change[0][0])"
   ]
  },
  {
   "cell_type": "code",
   "execution_count": null,
   "metadata": {
    "ExecuteTime": {
     "end_time": "2020-09-15T15:32:42.721831Z",
     "start_time": "2020-09-15T15:32:42.695387Z"
    }
   },
   "outputs": [],
   "source": [
    "print(len(adress_lst))\n",
    "print(len(omrade_lst))\n",
    "print(len(kvm_lst))\n",
    "print(len(rum_lst))\n",
    "print(len(maklare_lst))\n",
    "print(len(avgift_lst))\n",
    "print(len(slutpris_lst))\n",
    "print(len(datum_lst))\n",
    "print(len(change_lst))\n",
    "print(len(gata_id_lst))\n",
    "print(len(gata_lst))\n",
    "print(len(stockholm_lst))"
   ]
  },
  {
   "cell_type": "code",
   "execution_count": 121,
   "metadata": {
    "ExecuteTime": {
     "end_time": "2020-09-08T10:34:33.173925Z",
     "start_time": "2020-09-08T10:34:33.167924Z"
    }
   },
   "outputs": [],
   "source": [
    "# Zippa listor \n",
    "comp_lst = list(zip(adress_lst, omrade_lst, kvm_lst, rum_lst, maklare_lst,\n",
    "                    avgift_lst, slutpris_lst, datum_lst, change_lst, gata_id_lst, gata_lst, stockholm_lst))"
   ]
  },
  {
   "cell_type": "code",
   "execution_count": 122,
   "metadata": {
    "ExecuteTime": {
     "end_time": "2020-09-08T10:34:34.650090Z",
     "start_time": "2020-09-08T10:34:34.632582Z"
    }
   },
   "outputs": [],
   "source": [
    "# Skapa df\n",
    "\n",
    "df_sold = pd.DataFrame(data = comp_lst, columns = [\"adress\", \"omrade\", \"kvm\", \"rum\",\n",
    "                                                  \"maklare\", \"avgift\", \"slutpris\", \"datum\",\n",
    "                                                    \"prisförändring\", \"gata_id_lst\", \"gata_lst\", \"stockholm_lst\"])"
   ]
  },
  {
   "cell_type": "code",
   "execution_count": 31,
   "metadata": {
    "ExecuteTime": {
     "end_time": "2020-09-15T15:33:30.734694Z",
     "start_time": "2020-09-15T15:33:30.722664Z"
    }
   },
   "outputs": [],
   "source": [
    "df_sold"
   ]
  },
  {
   "cell_type": "markdown",
   "metadata": {},
   "source": [
    "# Main-loop för main_lst"
   ]
  },
  {
   "cell_type": "code",
   "execution_count": 29,
   "metadata": {
    "ExecuteTime": {
     "end_time": "2020-09-15T15:32:33.404073Z",
     "start_time": "2020-09-15T15:32:33.386070Z"
    }
   },
   "outputs": [
    {
     "data": {
      "text/plain": [
       "1273"
      ]
     },
     "execution_count": 29,
     "metadata": {},
     "output_type": "execute_result"
    }
   ],
   "source": [
    "len(lst_gator)"
   ]
  },
  {
   "cell_type": "code",
   "execution_count": null,
   "metadata": {
    "ExecuteTime": {
     "end_time": "2020-09-08T11:01:47.948384Z",
     "start_time": "2020-09-08T10:40:20.256335Z"
    }
   },
   "outputs": [],
   "source": [
    "adress_lst = []\n",
    "omrade_lst = []\n",
    "kvm_lst = []\n",
    "rum_lst = []\n",
    "maklare_lst = []\n",
    "avgift_lst = []\n",
    "slutpris_lst = []\n",
    "datum_lst = []\n",
    "change_lst = []\n",
    "gata_id_lst = []\n",
    "gata_lst = []\n",
    "stockholm_lst = []\n",
    "\n",
    "\n",
    "for i in lst_gator:    \n",
    "    page_num = math.ceil(int(i[0])/50)\n",
    "    for j in range(1, page_num+1):\n",
    "        url = f\"https://www.hemnet.se/salda/bostader?item_types%5B%5D=bostadsratt&location_ids%5B%5D={i[2]}&page={j}&sold_age=all\"\n",
    "        response = requests.get(url)\n",
    "        html = response.content\n",
    "        soup = BeautifulSoup(html, (\"lxml\"))\n",
    "\n",
    "        container = soup.select(\"li.sold-results__normal-hit\")\n",
    "\n",
    "        for x in container: \n",
    "            \n",
    "            # Lägg till kolumner från listan \n",
    "            \n",
    "            ## id\n",
    "            gata_id_lst.append(i[2])\n",
    "            \n",
    "            ## gata\n",
    "            gata = i[1]\n",
    "            gata_re = re.findall(r\"[-] +[A-Za-zåäöÅÄÖ\\s]+[,]\", gata)\n",
    "            if gata_re:                \n",
    "                gata_re_strip = gata_re[0].strip(\",-\").strip()\n",
    "                gata_lst.append(gata_re_strip)\n",
    "            else: \n",
    "                gata_lst.append(np.nan)\n",
    "            \n",
    "            ## Stockholms kommun\n",
    "            if \"Stockholms kommun\" in i[1]:\n",
    "                stockholm_lst.append(\"Stockholms kommun\")\n",
    "            else:\n",
    "                stockholm_lst.append(np.nan)\n",
    "            \n",
    "            # Lägg till kolumner från Hemnet\n",
    "\n",
    "            ## adress\n",
    "            adress = [x.text for x in x.select(\"span.item-result-meta-attribute-is-bold\")]\n",
    "            if adress:\n",
    "                adress_lst.append(adress[0])\n",
    "            else:\n",
    "                adress.lst.append(np.nan)\n",
    "            \n",
    "            ## område\n",
    "            omr = [x.text for x in x.select(\"span.item-link\")]\n",
    "            if len(omr) == 1:\n",
    "                omrade_lst.append(np.nan)    \n",
    "            else:\n",
    "                omrade_lst.append(omr[1].strip())\n",
    "                \n",
    "            ## KVM\n",
    "            kvm = [x.text for x in x.select(\"div.sold-property-listing__subheading\")]    \n",
    "            kvm = re.findall(\"[0-9]+\", kvm[0])\n",
    "\n",
    "            if len(kvm) <= 1:\n",
    "                kvm_lst.append(np.nan) \n",
    "            elif len(kvm) == 2:\n",
    "                kvm = kvm[0]\n",
    "                kvm_lst.append(kvm)\n",
    "            elif len(kvm) ==3:\n",
    "                kvm = \".\".join(kvm[0:2])\n",
    "                kvm_lst.append(kvm)\n",
    "            elif len(kvm) ==4:\n",
    "                kvm = \".\".join(kvm[0:2])\n",
    "                kvm_lst.append(kvm)\n",
    "            else:\n",
    "                kvm_lst.append(np.nan)     \n",
    "            \n",
    "            ## Rum\n",
    "            rum = [x.text for x in x.select(\"div.sold-property-listing__subheading\")]   \n",
    "            rum = re.findall(\"[0-9]+\", rum[0])\n",
    "\n",
    "            if not rum:\n",
    "                rum_lst.append(np.nan)\n",
    "            elif len(rum) == 1 and int(rum[0]) < 10:\n",
    "                rum_lst.append(rum[0])\n",
    "            elif len(rum) == 1 and int(rum[0]) > 10:\n",
    "                rum_lst.append(np.nan)\n",
    "            elif len(rum) == 2:\n",
    "                rum = rum[1]\n",
    "                rum_lst.append(rum)\n",
    "            elif len(rum) == 3:\n",
    "                rum = \".\".join(rum[2])\n",
    "                rum_lst.append(rum)\n",
    "            elif len(rum) ==4:\n",
    "                rum = \".\".join(rum[2:4])\n",
    "                rum_lst.append(rum)\n",
    "            else:\n",
    "                rum_lst.append(np.nan)\n",
    "                \n",
    "            ## Mäklare\n",
    "            maklare = [x.text.strip() for x in x.select(\"div.sold-property-listing__broker\")]\n",
    "            if maklare:\n",
    "                maklare_lst.append(maklare[0])\n",
    "            else:\n",
    "                maklare_lst.append(np.nan)\n",
    "                \n",
    "            ## Avgift\n",
    "            avgift = [x.text.strip() for x in x.select(\"div.sold-property-listing__fee\")]\n",
    "            if len(avgift) == 1:\n",
    "                avgift = re.findall(\"[0-9]+\", avgift[0])\n",
    "                avgift_lst.append(\"\".join(avgift))\n",
    "            else: \n",
    "                avgift_lst.append(np.nan)\n",
    "                \n",
    "            ## Slutpris\n",
    "            slutpris = [re.findall(\"[0-9]+\", x.text) for x in x.select(\"span.sold-property-listing__subheading\")]\n",
    "            if slutpris:\n",
    "                slutpris_lst.append(\"\".join(slutpris[0]))\n",
    "            else:\n",
    "                slutpris_lst.append(np.nan)\n",
    "                \n",
    "            ## Datum\n",
    "            datum = [x.text.strip() for x in x.select(\"div.sold-property-listing__sold-date\")]\n",
    "            if datum:\n",
    "                datum_lst.append(datum[0])\n",
    "            else:\n",
    "                datum_lst.append(np.nan)\n",
    "                \n",
    "            ## Måste ligga längs ned så som koden ser ut nu. Annars förstör continue\n",
    "            ## Prisförändring i % \n",
    "            change = [re.findall(\"[0-9+-]+\", x.text) for x in x.select(\"div.sold-property-listing__price-change\")]\n",
    "            if not change:\n",
    "                change_lst.append(0)\n",
    "                continue\n",
    "            if not change[0]:\n",
    "                change_lst.append(0)\n",
    "                continue\n",
    "            else:\n",
    "                change_lst.append(change[0][0])\n",
    "                \n",
    "print(len(adress_lst))\n",
    "print(len(omrade_lst))\n",
    "print(len(kvm_lst))\n",
    "print(len(rum_lst))\n",
    "print(len(maklare_lst))\n",
    "print(len(avgift_lst))\n",
    "print(len(slutpris_lst))\n",
    "print(len(datum_lst))\n",
    "print(len(change_lst))\n",
    "print(len(gata_id_lst))\n",
    "print(len(gata_lst))\n",
    "print(len(stockholm_lst))"
   ]
  },
  {
   "cell_type": "markdown",
   "metadata": {},
   "source": [
    "# Inspecting df"
   ]
  },
  {
   "cell_type": "code",
   "execution_count": 129,
   "metadata": {
    "ExecuteTime": {
     "end_time": "2020-09-08T11:02:40.435550Z",
     "start_time": "2020-09-08T11:02:40.401106Z"
    }
   },
   "outputs": [],
   "source": [
    "# Zippa listor \n",
    "comp_lst = list(zip(adress_lst, omrade_lst, kvm_lst, rum_lst, maklare_lst,\n",
    "                    avgift_lst, slutpris_lst, datum_lst, change_lst, gata_id_lst, gata_lst, stockholm_lst))"
   ]
  },
  {
   "cell_type": "code",
   "execution_count": 130,
   "metadata": {
    "ExecuteTime": {
     "end_time": "2020-09-08T11:02:41.195531Z",
     "start_time": "2020-09-08T11:02:41.085965Z"
    }
   },
   "outputs": [],
   "source": [
    "# Skapa df\n",
    "\n",
    "df_sold = pd.DataFrame(data = comp_lst, columns = [\"adress\", \"omrade\", \"kvm\", \"rum\",\n",
    "                                                  \"maklare\", \"avgift\", \"slutpris\", \"datum\",\n",
    "                                                    \"prisförändring\", \"gata_id_lst\", \"gata_lst\", \"stockholm_lst\"])"
   ]
  }
 ],
 "metadata": {
  "kernelspec": {
   "display_name": "Python 3",
   "language": "python",
   "name": "python3"
  },
  "language_info": {
   "codemirror_mode": {
    "name": "ipython",
    "version": 3
   },
   "file_extension": ".py",
   "mimetype": "text/x-python",
   "name": "python",
   "nbconvert_exporter": "python",
   "pygments_lexer": "ipython3",
   "version": "3.8.3"
  },
  "toc": {
   "base_numbering": 1,
   "nav_menu": {},
   "number_sections": true,
   "sideBar": true,
   "skip_h1_title": false,
   "title_cell": "Table of Contents",
   "title_sidebar": "Contents",
   "toc_cell": false,
   "toc_position": {
    "height": "calc(100% - 180px)",
    "left": "10px",
    "top": "150px",
    "width": "384px"
   },
   "toc_section_display": true,
   "toc_window_display": true
  }
 },
 "nbformat": 4,
 "nbformat_minor": 4
}
