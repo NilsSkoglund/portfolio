{
 "cells": [
  {
   "cell_type": "code",
   "execution_count": 1,
   "metadata": {
    "ExecuteTime": {
     "end_time": "2020-10-15T17:07:54.579680Z",
     "start_time": "2020-10-15T17:07:54.049800Z"
    }
   },
   "outputs": [],
   "source": [
    "import pandas as pd"
   ]
  },
  {
   "cell_type": "code",
   "execution_count": 2,
   "metadata": {
    "ExecuteTime": {
     "end_time": "2020-10-15T17:07:54.952931Z",
     "start_time": "2020-10-15T17:07:54.582327Z"
    }
   },
   "outputs": [],
   "source": [
    "# read data\n",
    "data = pd.read_csv(\"hotel_bookings.csv\")"
   ]
  },
  {
   "cell_type": "markdown",
   "metadata": {},
   "source": [
    "# Intro\n",
    "\n",
    "I am adding 4 columns: \n",
    "\n",
    "Datetime (3)\n",
    "- day\n",
    "- week\n",
    "- month\n",
    "\n",
    "canceled_days (1)\n",
    "\n",
    "The purpose of these columns are to help evaluate different slices of the results (i.e different time-periods). They are not meant to help increase the models performance (and they won't be included in training)"
   ]
  },
  {
   "cell_type": "markdown",
   "metadata": {},
   "source": [
    "# datetime: daily, weekly, monthly\n",
    "\n",
    "creating new date-columns based on existing date-columns\n",
    "\n",
    "Existing cols have year, month and week separate and I want columns for day, week and month with year included. I find this more efficient and clear when looking at different time periods as I don't have to deal with multiindex."
   ]
  },
  {
   "cell_type": "markdown",
   "metadata": {},
   "source": [
    "## daily"
   ]
  },
  {
   "cell_type": "code",
   "execution_count": 32,
   "metadata": {
    "ExecuteTime": {
     "end_time": "2020-10-06T12:43:35.097339Z",
     "start_time": "2020-10-06T12:43:34.483238Z"
    }
   },
   "outputs": [],
   "source": [
    "# add new column with datetime for day of arrival\n",
    "arrival_date = pd.to_datetime(data.arrival_date_year.astype(str) + \"-\" + data.arrival_date_month.astype(str) + \"-\" + data.arrival_date_day_of_month.astype(str)).tolist()\n",
    "data[\"arrival_date\"] = arrival_date"
   ]
  },
  {
   "cell_type": "markdown",
   "metadata": {},
   "source": [
    "## weekly"
   ]
  },
  {
   "cell_type": "code",
   "execution_count": 19,
   "metadata": {
    "ExecuteTime": {
     "end_time": "2020-10-15T17:16:32.730021Z",
     "start_time": "2020-10-15T17:16:32.513705Z"
    }
   },
   "outputs": [],
   "source": [
    "# making them into strings to be able to add them together\n",
    "# removing \"W\" from week column so datetime can read it\n",
    "data[\"year_week\"] = data.arrival_date_year.astype(str) + \"-W\" + data.arrival_date_week_number.astype(str)"
   ]
  },
  {
   "cell_type": "code",
   "execution_count": 15,
   "metadata": {
    "ExecuteTime": {
     "end_time": "2020-10-15T17:11:42.077142Z",
     "start_time": "2020-10-15T17:11:42.071160Z"
    }
   },
   "outputs": [],
   "source": [
    "# adding \"-1\" to get first day for week.\n",
    "# \"%Y-W%W-%w\" instructs formating \n",
    "import datetime\n",
    "def year_we(x):\n",
    "    #print(x)\n",
    "    r = datetime.datetime.strptime(x + '-1', \"%Y-W%W-%w\")\n",
    "    #print(r)\n",
    "    return r"
   ]
  },
  {
   "cell_type": "code",
   "execution_count": 16,
   "metadata": {
    "ExecuteTime": {
     "end_time": "2020-10-15T17:11:44.027334Z",
     "start_time": "2020-10-15T17:11:42.593152Z"
    }
   },
   "outputs": [],
   "source": [
    "# applying function\n",
    "data.year_week = data.year_week.apply(year_we)"
   ]
  },
  {
   "cell_type": "markdown",
   "metadata": {},
   "source": [
    "## monthly"
   ]
  },
  {
   "cell_type": "code",
   "execution_count": 21,
   "metadata": {
    "ExecuteTime": {
     "end_time": "2020-10-15T17:17:40.238712Z",
     "start_time": "2020-10-15T17:17:40.070160Z"
    }
   },
   "outputs": [],
   "source": [
    "# creating year and month column\n",
    "# straightforward, datetime can parse even if only year and month is specified, it just puts the first day for each month\n",
    "data[\"year_mo\"] = pd.to_datetime(data.arrival_date_year.astype(str) + \"-\" + data.arrival_date_month.astype(str))"
   ]
  },
  {
   "cell_type": "markdown",
   "metadata": {},
   "source": [
    "# days before canceling\n",
    "\n",
    "I am creating a new new column where I store number of days before arrival that a booking was canceled. This column is thus only relevant for bookings that were canceled. \n",
    "\n",
    "To give the reader a feel for the utility of this feature: \n",
    "\n",
    "When evaluating the models performance I might (for a particular problem) only be interested in predictions made for bookings that will cancel within 30-60 days of arrival (imagine that the hotel is doing its resource-planning on a monthly basis)"
   ]
  },
  {
   "cell_type": "markdown",
   "metadata": {},
   "source": [
    "## For canceled_bookings"
   ]
  },
  {
   "cell_type": "code",
   "execution_count": 37,
   "metadata": {
    "ExecuteTime": {
     "end_time": "2020-10-06T12:43:36.844103Z",
     "start_time": "2020-10-06T12:43:36.814246Z"
    }
   },
   "outputs": [],
   "source": [
    "# Changing format to datetime for reservataion_status_date (date when booking was canceled)\n",
    "data.reservation_status_date = pd.to_datetime(data.reservation_status_date)"
   ]
  },
  {
   "cell_type": "code",
   "execution_count": 38,
   "metadata": {
    "ExecuteTime": {
     "end_time": "2020-10-06T12:43:36.860286Z",
     "start_time": "2020-10-06T12:43:36.846080Z"
    }
   },
   "outputs": [],
   "source": [
    "# Getting the no. of days before arrival_date that the booking was canceled\n",
    "data[\"canceled_days\"] = data.arrival_date - data.reservation_status_date"
   ]
  },
  {
   "cell_type": "code",
   "execution_count": 39,
   "metadata": {
    "ExecuteTime": {
     "end_time": "2020-10-06T12:43:36.876253Z",
     "start_time": "2020-10-06T12:43:36.862038Z"
    }
   },
   "outputs": [],
   "source": [
    "# function to get only an integer for number of days instead of timestamp-format...\n",
    "# ...an integer is much more convenient to look at rather then a timestamp\n",
    "import re\n",
    "\n",
    "def no_days(x):\n",
    "    x = str(x)\n",
    "    r = re.findall(r\"[1-9]+\", x)\n",
    "    if r:\n",
    "        return r[0]\n",
    "    else:\n",
    "        return 0"
   ]
  },
  {
   "cell_type": "code",
   "execution_count": 40,
   "metadata": {
    "ExecuteTime": {
     "end_time": "2020-10-06T12:43:38.440348Z",
     "start_time": "2020-10-06T12:43:36.878996Z"
    }
   },
   "outputs": [],
   "source": [
    "# apply function to only get integers for number of days\n",
    "data.canceled_days = data.canceled_days.apply(no_days)"
   ]
  },
  {
   "cell_type": "markdown",
   "metadata": {},
   "source": [
    "## N/A for bookings that weren't canceled"
   ]
  },
  {
   "cell_type": "code",
   "execution_count": 41,
   "metadata": {
    "ExecuteTime": {
     "end_time": "2020-10-06T12:43:38.519892Z",
     "start_time": "2020-10-06T12:43:38.442422Z"
    }
   },
   "outputs": [],
   "source": [
    "# replace values for bookings that were not canceled with NA since the number otherwise can be misleading\n",
    "data.iloc[data.loc[data.is_canceled == 0].index.tolist(), 35] = \"NA\""
   ]
  },
  {
   "cell_type": "markdown",
   "metadata": {},
   "source": [
    "# Writing to csv"
   ]
  },
  {
   "cell_type": "code",
   "execution_count": 43,
   "metadata": {
    "ExecuteTime": {
     "end_time": "2020-10-06T13:35:56.726320Z",
     "start_time": "2020-10-06T13:35:52.820527Z"
    }
   },
   "outputs": [],
   "source": [
    "# creating new csv with the added columns/features\n",
    "data.to_csv(\"hotel_clean.csv\")"
   ]
  },
  {
   "cell_type": "code",
   "execution_count": null,
   "metadata": {},
   "outputs": [],
   "source": []
  }
 ],
 "metadata": {
  "kernelspec": {
   "display_name": "Python 3",
   "language": "python",
   "name": "python3"
  },
  "language_info": {
   "codemirror_mode": {
    "name": "ipython",
    "version": 3
   },
   "file_extension": ".py",
   "mimetype": "text/x-python",
   "name": "python",
   "nbconvert_exporter": "python",
   "pygments_lexer": "ipython3",
   "version": "3.8.3"
  },
  "toc": {
   "base_numbering": 1,
   "nav_menu": {},
   "number_sections": true,
   "sideBar": true,
   "skip_h1_title": false,
   "title_cell": "Table of Contents",
   "title_sidebar": "Contents",
   "toc_cell": false,
   "toc_position": {},
   "toc_section_display": true,
   "toc_window_display": false
  }
 },
 "nbformat": 4,
 "nbformat_minor": 4
}
